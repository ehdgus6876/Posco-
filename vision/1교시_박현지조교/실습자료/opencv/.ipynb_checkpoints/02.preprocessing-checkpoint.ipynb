{
 "cells": [
  {
   "cell_type": "markdown",
   "metadata": {
    "toc": true
   },
   "source": [
    "<h1>Table of Contents<span class=\"tocSkip\"></span></h1>\n",
    "<div class=\"toc\">\n",
    "    <ul class=\"toc-item\">\n",
    "        <li><span><a href=\"#Histogram\" data-toc-modified-id=\"Histogram-1\"><span class=\"toc-item-num\">1&nbsp;&nbsp;</span>Histogram</a></span>\n",
    "            <ul class=\"toc-item\"><li><span><a href=\"#Histogram-Gray\" data-toc-modified-id=\"Histogram-Gray-1.1\"><span class=\"toc-item-num\">1.1&nbsp;&nbsp;</span>Histogram Gray</a></span></li>\n",
    "                <li><span><a href=\"#Histogram-Equalization\" data-toc-modified-id=\"Histogram-Equalization-1.2\"><span class=\"toc-item-num\">1.2&nbsp;&nbsp;</span>Histogram Equalization</a></span>\n",
    "                    <ul class=\"toc-item\">\n",
    "                        <li><span><a href=\"#적용-전\" data-toc-modified-id=\"적용-전-1.2.1\"><span class=\"toc-item-num\">1.2.1&nbsp;&nbsp;</span>적용 전</a></span></li>\n",
    "                        <li><span><a href=\"#적용-후\" data-toc-modified-id=\"적용-후-1.2.2\"><span class=\"toc-item-num\">1.2.2&nbsp;&nbsp;</span>적용 후</a></span></li>\n",
    "                    </ul>\n",
    "                </li>\n",
    "            </ul>\n",
    "        </li>\n",
    "        <li><span><a href=\"#Image-Threshold\" data-toc-modified-id=\"Image-Threshold-2\"><span class=\"toc-item-num\">2&nbsp;&nbsp;</span>Image Threshold</a></span>\n",
    "            <ul class=\"toc-item\">\n",
    "                <li><span><a href=\"#Simple-Threshold\" data-toc-modified-id=\"Simple-Threshold-2.1\"><span class=\"toc-item-num\">2.1&nbsp;&nbsp;</span>Simple Threshold</a></span></li>\n",
    "                <li><span><a href=\"#Adaptive-Threshold\" data-toc-modified-id=\"Adaptive-Threshold-2.2\"><span class=\"toc-item-num\">2.2&nbsp;&nbsp;</span>Adaptive Threshold</a></span></li>\n",
    "            </ul>\n",
    "        </li>\n",
    "        <li><span><a href=\"#Image-Smoothing\" data-toc-modified-id=\"Image-Smoothing-3\"><span class=\"toc-item-num\">3&nbsp;&nbsp;</span>Image Smoothing</a></span>\n",
    "            <ul class=\"toc-item\">\n",
    "                <li><span><a href=\"#Average-filter\" data-toc-modified-id=\"Average-filter-3.1\"><span class=\"toc-item-num\">3.1&nbsp;&nbsp;</span>Average filter</a></span></li>\n",
    "                <li><span><a href=\"#Gaussian-filter\" data-toc-modified-id=\"Gaussian-filter-3.2\"><span class=\"toc-item-num\">3.2&nbsp;&nbsp;</span>Gaussian filter</a></span></li>\n",
    "                <li><span><a href=\"#Median-filter\" data-toc-modified-id=\"Median-filter-3.3\"><span class=\"toc-item-num\">3.3&nbsp;&nbsp;</span>Median filter</a></span></li>\n",
    "                <li><span><a href=\"#여러가지-필터-비교\" data-toc-modified-id=\"여러가지-필터-비교-3.4\"><span class=\"toc-item-num\">3.4&nbsp;&nbsp;</span>여러가지 필터 비교</a></span></li>\n",
    "            </ul>\n",
    "        </li>\n",
    "        <li><span><a href=\"#Image-Gradients\" data-toc-modified-id=\"Image-Gradients-4\"><span class=\"toc-item-num\">4&nbsp;&nbsp;</span>Image Gradients</a></span>\n",
    "        </li>\n",
    "    </ul>\n",
    "</div>"
   ]
  },
  {
   "cell_type": "markdown",
   "metadata": {},
   "source": [
    "# Histogram\n",
    "\n",
    "* It is a plot with pixel values (ranging from 0 to 255, not always) in X-axis and corresponding number of pixels in the image on Y-axis.\n",
    "* By looking at the histogram of an image, you get intuition about contrast, brightness, intensity distribution etc of that image. "
   ]
  },
  {
   "cell_type": "markdown",
   "metadata": {},
   "source": [
    "**cv2.calcHist(images, channels, mask, histSize, ranges[, hist[, accumulate]])**  \n",
    "Parameters:\t\n",
    "- image – 분석대상 이미지(uint8 or float32 type). Array형태.\n",
    "- channels – 분석 채널(X축의 대상). 이미지가 graysacle이면 [0], color 이미지이면 [0],[0,1] 형태(1 : Blue, 2: Green, 3: Red)\n",
    "- mask – 이미지의 분석영역. None이면 전체 영역.\n",
    "- histSize – BINS 값. [256]\n",
    "- ranges – Range값. [0,256]"
   ]
  },
  {
   "cell_type": "markdown",
   "metadata": {},
   "source": [
    "## Histogram Gray"
   ]
  },
  {
   "cell_type": "code",
   "execution_count": 2,
   "metadata": {
    "scrolled": false
   },
   "outputs": [
    {
     "ename": "TypeError",
     "evalue": "Image data of dtype object cannot be converted to float",
     "output_type": "error",
     "traceback": [
      "\u001b[0;31m---------------------------------------------------------------------------\u001b[0m",
      "\u001b[0;31mTypeError\u001b[0m                                 Traceback (most recent call last)",
      "\u001b[0;32m<ipython-input-2-b96ce25e7b2e>\u001b[0m in \u001b[0;36m<module>\u001b[0;34m\u001b[0m\n\u001b[1;32m      5\u001b[0m \u001b[0;31m#--① 이미지 그레이 스케일로 읽기 및 출력\u001b[0m\u001b[0;34m\u001b[0m\u001b[0;34m\u001b[0m\u001b[0;34m\u001b[0m\u001b[0m\n\u001b[1;32m      6\u001b[0m \u001b[0mimg\u001b[0m \u001b[0;34m=\u001b[0m \u001b[0mcv2\u001b[0m\u001b[0;34m.\u001b[0m\u001b[0mimread\u001b[0m\u001b[0;34m(\u001b[0m\u001b[0;34m'./picture/mountain.jpg'\u001b[0m\u001b[0;34m,\u001b[0m \u001b[0mcv2\u001b[0m\u001b[0;34m.\u001b[0m\u001b[0mIMREAD_GRAYSCALE\u001b[0m\u001b[0;34m)\u001b[0m\u001b[0;34m\u001b[0m\u001b[0;34m\u001b[0m\u001b[0m\n\u001b[0;32m----> 7\u001b[0;31m \u001b[0mplt\u001b[0m\u001b[0;34m.\u001b[0m\u001b[0mimshow\u001b[0m\u001b[0;34m(\u001b[0m\u001b[0mimg\u001b[0m\u001b[0;34m,\u001b[0m\u001b[0;34m'gray'\u001b[0m\u001b[0;34m)\u001b[0m\u001b[0;34m\u001b[0m\u001b[0;34m\u001b[0m\u001b[0m\n\u001b[0m\u001b[1;32m      8\u001b[0m \u001b[0mplt\u001b[0m\u001b[0;34m.\u001b[0m\u001b[0mshow\u001b[0m\u001b[0;34m(\u001b[0m\u001b[0;34m)\u001b[0m\u001b[0;34m\u001b[0m\u001b[0;34m\u001b[0m\u001b[0m\n\u001b[1;32m      9\u001b[0m \u001b[0;34m\u001b[0m\u001b[0m\n",
      "\u001b[0;32m~/anaconda3/envs/vision/lib/python3.7/site-packages/matplotlib/pyplot.py\u001b[0m in \u001b[0;36mimshow\u001b[0;34m(X, cmap, norm, aspect, interpolation, alpha, vmin, vmax, origin, extent, shape, filternorm, filterrad, imlim, resample, url, data, **kwargs)\u001b[0m\n\u001b[1;32m   2649\u001b[0m         \u001b[0mfilternorm\u001b[0m\u001b[0;34m=\u001b[0m\u001b[0mfilternorm\u001b[0m\u001b[0;34m,\u001b[0m \u001b[0mfilterrad\u001b[0m\u001b[0;34m=\u001b[0m\u001b[0mfilterrad\u001b[0m\u001b[0;34m,\u001b[0m \u001b[0mimlim\u001b[0m\u001b[0;34m=\u001b[0m\u001b[0mimlim\u001b[0m\u001b[0;34m,\u001b[0m\u001b[0;34m\u001b[0m\u001b[0;34m\u001b[0m\u001b[0m\n\u001b[1;32m   2650\u001b[0m         resample=resample, url=url, **({\"data\": data} if data is not\n\u001b[0;32m-> 2651\u001b[0;31m         None else {}), **kwargs)\n\u001b[0m\u001b[1;32m   2652\u001b[0m     \u001b[0msci\u001b[0m\u001b[0;34m(\u001b[0m\u001b[0m__ret\u001b[0m\u001b[0;34m)\u001b[0m\u001b[0;34m\u001b[0m\u001b[0;34m\u001b[0m\u001b[0m\n\u001b[1;32m   2653\u001b[0m     \u001b[0;32mreturn\u001b[0m \u001b[0m__ret\u001b[0m\u001b[0;34m\u001b[0m\u001b[0;34m\u001b[0m\u001b[0m\n",
      "\u001b[0;32m~/anaconda3/envs/vision/lib/python3.7/site-packages/matplotlib/__init__.py\u001b[0m in \u001b[0;36minner\u001b[0;34m(ax, data, *args, **kwargs)\u001b[0m\n\u001b[1;32m   1563\u001b[0m     \u001b[0;32mdef\u001b[0m \u001b[0minner\u001b[0m\u001b[0;34m(\u001b[0m\u001b[0max\u001b[0m\u001b[0;34m,\u001b[0m \u001b[0;34m*\u001b[0m\u001b[0margs\u001b[0m\u001b[0;34m,\u001b[0m \u001b[0mdata\u001b[0m\u001b[0;34m=\u001b[0m\u001b[0;32mNone\u001b[0m\u001b[0;34m,\u001b[0m \u001b[0;34m**\u001b[0m\u001b[0mkwargs\u001b[0m\u001b[0;34m)\u001b[0m\u001b[0;34m:\u001b[0m\u001b[0;34m\u001b[0m\u001b[0;34m\u001b[0m\u001b[0m\n\u001b[1;32m   1564\u001b[0m         \u001b[0;32mif\u001b[0m \u001b[0mdata\u001b[0m \u001b[0;32mis\u001b[0m \u001b[0;32mNone\u001b[0m\u001b[0;34m:\u001b[0m\u001b[0;34m\u001b[0m\u001b[0;34m\u001b[0m\u001b[0m\n\u001b[0;32m-> 1565\u001b[0;31m             \u001b[0;32mreturn\u001b[0m \u001b[0mfunc\u001b[0m\u001b[0;34m(\u001b[0m\u001b[0max\u001b[0m\u001b[0;34m,\u001b[0m \u001b[0;34m*\u001b[0m\u001b[0mmap\u001b[0m\u001b[0;34m(\u001b[0m\u001b[0msanitize_sequence\u001b[0m\u001b[0;34m,\u001b[0m \u001b[0margs\u001b[0m\u001b[0;34m)\u001b[0m\u001b[0;34m,\u001b[0m \u001b[0;34m**\u001b[0m\u001b[0mkwargs\u001b[0m\u001b[0;34m)\u001b[0m\u001b[0;34m\u001b[0m\u001b[0;34m\u001b[0m\u001b[0m\n\u001b[0m\u001b[1;32m   1566\u001b[0m \u001b[0;34m\u001b[0m\u001b[0m\n\u001b[1;32m   1567\u001b[0m         \u001b[0mbound\u001b[0m \u001b[0;34m=\u001b[0m \u001b[0mnew_sig\u001b[0m\u001b[0;34m.\u001b[0m\u001b[0mbind\u001b[0m\u001b[0;34m(\u001b[0m\u001b[0max\u001b[0m\u001b[0;34m,\u001b[0m \u001b[0;34m*\u001b[0m\u001b[0margs\u001b[0m\u001b[0;34m,\u001b[0m \u001b[0;34m**\u001b[0m\u001b[0mkwargs\u001b[0m\u001b[0;34m)\u001b[0m\u001b[0;34m\u001b[0m\u001b[0;34m\u001b[0m\u001b[0m\n",
      "\u001b[0;32m~/anaconda3/envs/vision/lib/python3.7/site-packages/matplotlib/cbook/deprecation.py\u001b[0m in \u001b[0;36mwrapper\u001b[0;34m(*args, **kwargs)\u001b[0m\n\u001b[1;32m    356\u001b[0m                 \u001b[0;34mf\"%(removal)s.  If any parameter follows {name!r}, they \"\u001b[0m\u001b[0;34m\u001b[0m\u001b[0;34m\u001b[0m\u001b[0m\n\u001b[1;32m    357\u001b[0m                 f\"should be pass as keyword, not positionally.\")\n\u001b[0;32m--> 358\u001b[0;31m         \u001b[0;32mreturn\u001b[0m \u001b[0mfunc\u001b[0m\u001b[0;34m(\u001b[0m\u001b[0;34m*\u001b[0m\u001b[0margs\u001b[0m\u001b[0;34m,\u001b[0m \u001b[0;34m**\u001b[0m\u001b[0mkwargs\u001b[0m\u001b[0;34m)\u001b[0m\u001b[0;34m\u001b[0m\u001b[0;34m\u001b[0m\u001b[0m\n\u001b[0m\u001b[1;32m    359\u001b[0m \u001b[0;34m\u001b[0m\u001b[0m\n\u001b[1;32m    360\u001b[0m     \u001b[0;32mreturn\u001b[0m \u001b[0mwrapper\u001b[0m\u001b[0;34m\u001b[0m\u001b[0;34m\u001b[0m\u001b[0m\n",
      "\u001b[0;32m~/anaconda3/envs/vision/lib/python3.7/site-packages/matplotlib/cbook/deprecation.py\u001b[0m in \u001b[0;36mwrapper\u001b[0;34m(*args, **kwargs)\u001b[0m\n\u001b[1;32m    356\u001b[0m                 \u001b[0;34mf\"%(removal)s.  If any parameter follows {name!r}, they \"\u001b[0m\u001b[0;34m\u001b[0m\u001b[0;34m\u001b[0m\u001b[0m\n\u001b[1;32m    357\u001b[0m                 f\"should be pass as keyword, not positionally.\")\n\u001b[0;32m--> 358\u001b[0;31m         \u001b[0;32mreturn\u001b[0m \u001b[0mfunc\u001b[0m\u001b[0;34m(\u001b[0m\u001b[0;34m*\u001b[0m\u001b[0margs\u001b[0m\u001b[0;34m,\u001b[0m \u001b[0;34m**\u001b[0m\u001b[0mkwargs\u001b[0m\u001b[0;34m)\u001b[0m\u001b[0;34m\u001b[0m\u001b[0;34m\u001b[0m\u001b[0m\n\u001b[0m\u001b[1;32m    359\u001b[0m \u001b[0;34m\u001b[0m\u001b[0m\n\u001b[1;32m    360\u001b[0m     \u001b[0;32mreturn\u001b[0m \u001b[0mwrapper\u001b[0m\u001b[0;34m\u001b[0m\u001b[0;34m\u001b[0m\u001b[0m\n",
      "\u001b[0;32m~/anaconda3/envs/vision/lib/python3.7/site-packages/matplotlib/axes/_axes.py\u001b[0m in \u001b[0;36mimshow\u001b[0;34m(self, X, cmap, norm, aspect, interpolation, alpha, vmin, vmax, origin, extent, shape, filternorm, filterrad, imlim, resample, url, **kwargs)\u001b[0m\n\u001b[1;32m   5624\u001b[0m                               resample=resample, **kwargs)\n\u001b[1;32m   5625\u001b[0m \u001b[0;34m\u001b[0m\u001b[0m\n\u001b[0;32m-> 5626\u001b[0;31m         \u001b[0mim\u001b[0m\u001b[0;34m.\u001b[0m\u001b[0mset_data\u001b[0m\u001b[0;34m(\u001b[0m\u001b[0mX\u001b[0m\u001b[0;34m)\u001b[0m\u001b[0;34m\u001b[0m\u001b[0;34m\u001b[0m\u001b[0m\n\u001b[0m\u001b[1;32m   5627\u001b[0m         \u001b[0mim\u001b[0m\u001b[0;34m.\u001b[0m\u001b[0mset_alpha\u001b[0m\u001b[0;34m(\u001b[0m\u001b[0malpha\u001b[0m\u001b[0;34m)\u001b[0m\u001b[0;34m\u001b[0m\u001b[0;34m\u001b[0m\u001b[0m\n\u001b[1;32m   5628\u001b[0m         \u001b[0;32mif\u001b[0m \u001b[0mim\u001b[0m\u001b[0;34m.\u001b[0m\u001b[0mget_clip_path\u001b[0m\u001b[0;34m(\u001b[0m\u001b[0;34m)\u001b[0m \u001b[0;32mis\u001b[0m \u001b[0;32mNone\u001b[0m\u001b[0;34m:\u001b[0m\u001b[0;34m\u001b[0m\u001b[0;34m\u001b[0m\u001b[0m\n",
      "\u001b[0;32m~/anaconda3/envs/vision/lib/python3.7/site-packages/matplotlib/image.py\u001b[0m in \u001b[0;36mset_data\u001b[0;34m(self, A)\u001b[0m\n\u001b[1;32m    692\u001b[0m                 not np.can_cast(self._A.dtype, float, \"same_kind\")):\n\u001b[1;32m    693\u001b[0m             raise TypeError(\"Image data of dtype {} cannot be converted to \"\n\u001b[0;32m--> 694\u001b[0;31m                             \"float\".format(self._A.dtype))\n\u001b[0m\u001b[1;32m    695\u001b[0m \u001b[0;34m\u001b[0m\u001b[0m\n\u001b[1;32m    696\u001b[0m         if not (self._A.ndim == 2\n",
      "\u001b[0;31mTypeError\u001b[0m: Image data of dtype object cannot be converted to float"
     ]
    },
    {
     "data": {
      "image/png": "[encoded data removed]",
      "text/plain": [
       "<Figure size 432x288 with 1 Axes>"
      ]
     },
     "metadata": {
      "needs_background": "light"
     },
     "output_type": "display_data"
    }
   ],
   "source": [
    "import cv2\n",
    "import numpy as np\n",
    "import matplotlib.pylab as plt\n",
    "\n",
    "#--① 이미지 그레이 스케일로 읽기 및 출력\n",
    "img = cv2.imread('./picture/mountain.jpg', cv2.IMREAD_GRAYSCALE)\n",
    "plt.imshow(img,'gray')\n",
    "plt.show()\n",
    "\n",
    "#--② 히스토그램 계산 및 그리기\n",
    "hist = cv2.calcHist([img], [0], None, [256], [0,255])\n",
    "plt.plot(hist)\n",
    "\n",
    "print(\"hist.shape:\", hist.shape)  #--③ 히스토그램의 shape (256,1)\n",
    "print(\"hist.sum():\", hist.sum(), \"img.shape:\",img.shape) #--④ 히스토그램 총 합계와 이미지의 크기\n",
    "plt.show()"
   ]
  },
  {
   "cell_type": "markdown",
   "metadata": {},
   "source": [
    "## Histogram Equalization\n",
    "\n",
    "\n",
    "* Consider an image whose pixel values are confined to some specific range of values only. But a good image will have pixels from all regions of the image.\n",
    "* So you need to stretch this histogram to either ends (as given in below image, from wikipedia) and that is what Histogram Equalization does (in simple words). \n",
    "* This normally improves the contrast of the image."
   ]
  },
  {
   "cell_type": "markdown",
   "metadata": {},
   "source": [
    "CDF(Cumulative Distribution Function, 누적 분포 함수)  \n",
    " : 어떤 확률 분포에 대해서 확률 변수가 특정 값보다 작거나 같은 확률을 나타냄 "
   ]
  },
  {
   "cell_type": "markdown",
   "metadata": {},
   "source": [
    "### 적용 전"
   ]
  },
  {
   "cell_type": "code",
   "execution_count": 3,
   "metadata": {
    "scrolled": false
   },
   "outputs": [
    {
     "ename": "error",
     "evalue": "OpenCV(4.3.0) ../modules/imgproc/src/color.cpp:182: error: (-215:Assertion failed) !_src.empty() in function 'cvtColor'\n",
     "output_type": "error",
     "traceback": [
      "\u001b[0;31m---------------------------------------------------------------------------\u001b[0m",
      "\u001b[0;31merror\u001b[0m                                     Traceback (most recent call last)",
      "\u001b[0;32m<ipython-input-3-49532c9cb64f>\u001b[0m in \u001b[0;36m<module>\u001b[0;34m\u001b[0m\n\u001b[1;32m      4\u001b[0m \u001b[0;34m\u001b[0m\u001b[0m\n\u001b[1;32m      5\u001b[0m \u001b[0mimg\u001b[0m \u001b[0;34m=\u001b[0m \u001b[0mcv2\u001b[0m\u001b[0;34m.\u001b[0m\u001b[0mimread\u001b[0m\u001b[0;34m(\u001b[0m\u001b[0;34m'picture/hawkes.jpg'\u001b[0m\u001b[0;34m,\u001b[0m\u001b[0;36m0\u001b[0m\u001b[0;34m)\u001b[0m\u001b[0;34m\u001b[0m\u001b[0;34m\u001b[0m\u001b[0m\n\u001b[0;32m----> 6\u001b[0;31m \u001b[0mimg\u001b[0m \u001b[0;34m=\u001b[0m \u001b[0mcv2\u001b[0m\u001b[0;34m.\u001b[0m\u001b[0mcvtColor\u001b[0m\u001b[0;34m(\u001b[0m\u001b[0mimg\u001b[0m\u001b[0;34m,\u001b[0m \u001b[0mcv2\u001b[0m\u001b[0;34m.\u001b[0m\u001b[0mCOLOR_BGR2RGB\u001b[0m\u001b[0;34m)\u001b[0m\u001b[0;34m\u001b[0m\u001b[0;34m\u001b[0m\u001b[0m\n\u001b[0m\u001b[1;32m      7\u001b[0m \u001b[0mplt\u001b[0m\u001b[0;34m.\u001b[0m\u001b[0mfigure\u001b[0m\u001b[0;34m(\u001b[0m\u001b[0mfigsize\u001b[0m\u001b[0;34m=\u001b[0m\u001b[0;34m(\u001b[0m\u001b[0;36m8\u001b[0m\u001b[0;34m,\u001b[0m\u001b[0;36m6\u001b[0m\u001b[0;34m)\u001b[0m\u001b[0;34m)\u001b[0m\u001b[0;34m\u001b[0m\u001b[0;34m\u001b[0m\u001b[0m\n\u001b[1;32m      8\u001b[0m \u001b[0mplt\u001b[0m\u001b[0;34m.\u001b[0m\u001b[0mimshow\u001b[0m\u001b[0;34m(\u001b[0m\u001b[0mimg\u001b[0m\u001b[0;34m)\u001b[0m \u001b[0;31m# 이미지 출력\u001b[0m\u001b[0;34m\u001b[0m\u001b[0;34m\u001b[0m\u001b[0m\n",
      "\u001b[0;31merror\u001b[0m: OpenCV(4.3.0) ../modules/imgproc/src/color.cpp:182: error: (-215:Assertion failed) !_src.empty() in function 'cvtColor'\n"
     ]
    }
   ],
   "source": [
    "import cv2\n",
    "import numpy as np\n",
    "from matplotlib import pyplot as plt\n",
    "\n",
    "img = cv2.imread('picture/hawkes.jpg',0)\n",
    "img = cv2.cvtColor(img, cv2.COLOR_BGR2RGB)\n",
    "plt.figure(figsize=(8,6))\n",
    "plt.imshow(img) # 이미지 출력\n",
    "\n",
    "# 히스토그램 구하기\n",
    "hist,bins = np.histogram(img.flatten(),256,[0,256])\n",
    "\n",
    "# CDF(누적분포함수) 구하기\n",
    "cdf = hist.cumsum()\n",
    "\n",
    "## histogram\n",
    "plt.figure(figsize=(8,5))\n",
    "plt.subplot(2,1,1)\n",
    "plt.title('histogram')\n",
    "plt.hist(img.flatten(),256,[0,256], color = 'r')\n",
    "\n",
    "## cdf\n",
    "plt.subplot(2,1,2),\n",
    "plt.title('cdf')\n",
    "plt.plot(cdf, color = 'b')\n",
    "plt.savefig('histogram_before.png') # 히스토그램 저장\n",
    "plt.show()\n"
   ]
  },
  {
   "cell_type": "markdown",
   "metadata": {},
   "source": [
    "### 적용 후"
   ]
  },
  {
   "cell_type": "code",
   "execution_count": null,
   "metadata": {},
   "outputs": [],
   "source": [
    "import cv2\n",
    "import numpy as np\n",
    "from matplotlib import pyplot as plt\n",
    "\n",
    "img = cv2.imread('picture/hawkes.jpg',0)\n",
    "hist,bins = np.histogram(img.flatten(),256,[0,256])\n",
    "cdf = hist.cumsum()\n",
    "\n",
    "# cdf의 값이 0인 경우는 mask처리를 하여 계산에서 제외\n",
    "# mask처리가 되면 Numpy 계산에서 제외가 됨\n",
    "# 아래는 cdf array에서 값이 0인 부분을 mask처리함\n",
    "cdf_m = np.ma.masked_equal(cdf,0)\n",
    "\n",
    "# History Equalization 공식\n",
    "cdf_m = (cdf_m - cdf_m.min()) * 255 / (cdf_m.max() - cdf_m.min())\n",
    "\n",
    "# Mask처리를 했던 부분을 다시 0으로 변환\n",
    "cdf = np.ma.filled(cdf_m,0).astype('uint8')\n",
    "\n",
    "img2 = cdf[img]\n",
    "img2 = cv2.cvtColor(img2, cv2.COLOR_BGR2RGB)\n",
    "plt.figure(figsize=(8,6))\n",
    "plt.imshow(img2) # 이미지 출력\n",
    "\n",
    "## histogram\n",
    "plt.figure(figsize=(8,5)) \n",
    "plt.subplot(2,1,1)\n",
    "plt.title('histogram')\n",
    "plt.hist(img2.flatten(),256,[0,256], color = 'r')\n",
    "\n",
    "## cdf\n",
    "hist2,bins2 = np.histogram(img2.flatten(),256,[0,256])\n",
    "cdf2 = hist2.cumsum()\n",
    "\n",
    "plt.subplot(2,1,2),\n",
    "plt.title('cdf')\n",
    "plt.plot(cdf2, color = 'b')\n",
    "plt.savefig('histogram_after.png') # 히스토그램 저장\n",
    "plt.show()\n"
   ]
  },
  {
   "cell_type": "markdown",
   "metadata": {},
   "source": [
    "# Image Threshold\n",
    "\n",
    "## Simple Threshold\n",
    "cv2.threshold(src,tresh,maxval,type) -->  retval, dst\n",
    "\n",
    "retval : otsu의 이진화와 관련\n",
    "\n",
    "Parameter: \n",
    "- src: input image로 single-channel image (grayscale을 사용)\n",
    "- thresh: 임계값\n",
    "- maxval: 임계값을 넘었을 때 적용할 value (흑백의 경우 255)\n",
    "- type: thresholding type\n",
    "\n",
    "Thresholding Type: \n",
    "- *cv2.THRESH_BINARY*\n",
    "- *cv2.THRESH_BINARY_INV*         : 픽셀값이 threshold_value보다 크면 value, 작으면 0 \n",
    "- *cv2.THRESH_BINARY_TRUNC*       : 픽셀값이 threshold_value보다 크면 threshold_value, 작으면 픽셀값 그대로  \n",
    "- *cv2.THRESH_BINARY_TOZERO*      : 픽셀값이 threshold_value보다 크면 threshold_value, 작으면 0 \n",
    "- *cv2.THRESH_BINARY_TOZERO_INV*  : 픽셀값이 threshold_value보다 크면 0, 작으면 픽셀값 그대로  \n"
   ]
  },
  {
   "cell_type": "code",
   "execution_count": null,
   "metadata": {},
   "outputs": [],
   "source": [
    "import cv2\n",
    "import numpy as np\n",
    "from matplotlib import pyplot as plt\n",
    "\n",
    "img = cv2.imread('./picture/radial_gradient.png',0)\n",
    "#img = cv2.imread('./picture/len_top.jpg',0)\n",
    "\n",
    "# threshold 값 설정\n",
    "t = 100\n",
    "\n",
    "ret,thresh1 = cv2.threshold(img, t, 255, cv2.THRESH_BINARY)\n",
    "ret,thresh2 = cv2.threshold(img, t, 255, cv2.THRESH_BINARY_INV)\n",
    "ret,thresh3 = cv2.threshold(img, t, 255, cv2.THRESH_TRUNC)\n",
    "ret,thresh4 = cv2.threshold(img, t, 255, cv2.THRESH_TOZERO)\n",
    "ret,thresh5 = cv2.threshold(img, t, 255, cv2.THRESH_TOZERO_INV)\n",
    "\n",
    "titles = ['Original Image','BINARY','BINARY_INV','TRUNC','TOZERO','TOZERO_INV']\n",
    "images = [img, thresh1, thresh2, thresh3, thresh4, thresh5]\n",
    "\n",
    "plt.figure(figsize=(15,8)) ## \n",
    "for i in range(6):\n",
    "    plt.subplot(2,3,i+1),plt.imshow(images[i],'gray')\n",
    "    plt.title(titles[i])\n",
    "    plt.xticks([]),plt.yticks([])\n",
    "\n",
    "plt.show()"
   ]
  },
  {
   "cell_type": "code",
   "execution_count": null,
   "metadata": {},
   "outputs": [],
   "source": [
    "titles = ['Original Image','BINARY','BINARY_INV','TRUNC','TOZERO','TOZERO_INV']\n",
    "images = [img, thresh1, thresh2, thresh3, thresh4, thresh5]\n",
    "\n",
    "plt.figure(figsize=(15,8)) ## \n",
    "for i in range(6):\n",
    "    plt.subplot(2,3,i+1)\n",
    "#     plt.imshow(images[i],'gray')\n",
    "    plt.title(titles[i])\n",
    "    plt.hist(images[i].flatten(),256,[0,256], color = 'r')\n",
    "\n",
    "plt.show()"
   ]
  },
  {
   "cell_type": "markdown",
   "metadata": {},
   "source": [
    "## Adaptive Threshold\n",
    "cv2.adaptiveThreshold(src, maxValue, adaptiveMethod, thresholdType, blockSize, C) = dst\n",
    "\n",
    "Parameters:\n",
    "- src: grayscale image\n",
    "- maxValue: 임계값을 넘었을 때 적용할 value\n",
    "- adaptiveMethod: threshold value를 찾기 위해 계산하는 방법\n",
    "- thresholdType: threshold type\n",
    "- blockSize: thresholding을 적용할 영역 크기\n",
    "- C: Mean이나 gaussian mean에서 차감할 값\n",
    "\n",
    "AdaptiveMethod:\n",
    "- *cv2.ADAPTIVE_THRESH_MEAN_C*: block size 내의 각 픽셀 값의 평균을 threshold로 사용\n",
    "- *cv2.ADAPTIVE_THRESH_GAUSSIAN_C*: block size에 맞게 gaussian filter를 생성해 wegited sum을 threshold로 사용"
   ]
  },
  {
   "cell_type": "code",
   "execution_count": null,
   "metadata": {
    "scrolled": false
   },
   "outputs": [],
   "source": [
    "import cv2\n",
    "import numpy as np\n",
    "from matplotlib import pyplot as plt\n",
    "\n",
    "img = cv2.imread('./picture/sudoku.png',0)\n",
    "img = cv2.medianBlur(img,5)\n",
    "\n",
    "# threshold 값 설정\n",
    "t = 100\n",
    "\n",
    "# Global Thresholding\n",
    "ret,th1 = cv2.threshold(img,t,255,cv2.THRESH_BINARY)\n",
    "\n",
    "# Adaptive Thresholding(MEAN)\n",
    "th2 = cv2.adaptiveThreshold(img,255,cv2.ADAPTIVE_THRESH_MEAN_C,cv2.THRESH_BINARY,15,2)\n",
    "\n",
    "# Adaptive Thresholding(GAUSSIAN)\n",
    "th3 = cv2.adaptiveThreshold(img,255,cv2.ADAPTIVE_THRESH_GAUSSIAN_C,cv2.THRESH_BINARY,15,2)\n",
    "\n",
    "titles = ['Original Image', 'Global Thresholding (t = 100)',\n",
    "            'Adaptive Mean Thresholding', 'Adaptive Gaussian Thresholding']\n",
    "images = [img, th1, th2, th3]\n",
    "\n",
    "plt.figure(figsize=(12,10))\n",
    "for i in range(4):\n",
    "    plt.subplot(2,2,i+1)\n",
    "    plt.imshow(images[i],'gray') \n",
    "    plt.title(titles[i])\n",
    "    plt.xticks([]),plt.yticks([])\n",
    "plt.tight_layout()\n",
    "plt.show()"
   ]
  },
  {
   "cell_type": "markdown",
   "metadata": {},
   "source": [
    "# Image Smoothing\n",
    "cv2.blur(src,ksize) = dst\n",
    "\n",
    "Parameters:\n",
    "- src: input image\n",
    "- ksize: kernel size (ex: (3,3))\n",
    "\n",
    "cv2.GaussianBlur(img, ksize, sigmaX) = dst\n",
    "\n",
    "Parameters:\n",
    "- img: input image\n",
    "- ksize: kernel size (ex: (3x3))\n",
    "- sigmaX: Gaussian kernel standard deviation in X direction\n",
    "\n",
    "cv2.medianBlur(src, ksize) = dst\n",
    "\n",
    "Parameters:\n",
    "- src: input image\n",
    "- ksize: odd number larger than 1"
   ]
  },
  {
   "cell_type": "markdown",
   "metadata": {},
   "source": [
    "## Average filter"
   ]
  },
  {
   "cell_type": "code",
   "execution_count": null,
   "metadata": {},
   "outputs": [],
   "source": [
    "import cv2\n",
    "import numpy as np\n",
    "\n",
    "img = cv2.imread('picture/pump_horse.jpg')\n",
    "img = cv2.cvtColor(img, cv2.COLOR_BGR2RGB)\n",
    "\n",
    "'''\n",
    "#5x5 평균 필터 커널 생성    ---①\n",
    "kernel = np.array([[0.04, 0.04, 0.04, 0.04, 0.04],\n",
    "                   [0.04, 0.04, 0.04, 0.04, 0.04],\n",
    "                   [0.04, 0.04, 0.04, 0.04, 0.04],\n",
    "                   [0.04, 0.04, 0.04, 0.04, 0.04],\n",
    "                   [0.04, 0.04, 0.04, 0.04, 0.04]])\n",
    "'''\n",
    "l = 5\n",
    "\n",
    "# 5x5 평균 필터 커널 생성  ---②\n",
    "kernel = np.ones((l,l))/l**2\n",
    "# 필터 적용             ---③\n",
    "blured = cv2.filter2D(img, -1, kernel)\n",
    "\n",
    "# 결과 출력\n",
    "plt.figure(figsize=(10,10)) \n",
    "plt.imshow(img)\n",
    "plt.show()\n",
    "\n",
    "plt.figure(figsize=(10,10)) \n",
    "plt.imshow(blured) \n",
    "plt.show()\n"
   ]
  },
  {
   "cell_type": "markdown",
   "metadata": {},
   "source": [
    "## Gaussian filter"
   ]
  },
  {
   "cell_type": "code",
   "execution_count": null,
   "metadata": {},
   "outputs": [],
   "source": [
    "import cv2\n",
    "import numpy as np\n",
    "\n",
    "img = cv2.imread('picture/gaussian_noise.jpg')\n",
    "img = cv2.cvtColor(img, cv2.COLOR_BGR2RGB)\n",
    "\n",
    "# 가우시안 커널을 직접 생성해서 블러링  ---①\n",
    "k1 = np.array([[1, 2, 1],\n",
    "               [2, 4, 2],\n",
    "               [1, 2, 1]]) *(1/16)\n",
    "blur1 = cv2.filter2D(img, -1, k1)\n",
    "\n",
    "# 가우시안 커널을 API로 얻어서 블러링 ---②\n",
    "k2 = cv2.getGaussianKernel(3, 0)\n",
    "blur2 = cv2.filter2D(img, -1, k2*k2.T)\n",
    "\n",
    "# 가우시안 블러 API로 블러링 ---③\n",
    "blur3 = cv2.GaussianBlur(img, (3, 3), 0)\n",
    "\n",
    "# 결과 출력\n",
    "print('k1:', k1)\n",
    "print('k2:', k2*k2.T)\n",
    "\n",
    "titles = ['Gaussian Noise Image', 'k1', 'getGaussianKernel', 'GaussianBlur']\n",
    "images = [img, blur1, blur2, blur3]\n",
    "\n",
    "plt.figure(figsize=(12,10))\n",
    "for i in range(4):\n",
    "    plt.subplot(2,2,i+1)\n",
    "    plt.imshow(images[i],'gray') \n",
    "    plt.title(titles[i])\n",
    "    plt.xticks([]),plt.yticks([])\n",
    "\n",
    "cv2.imwrite('before_gaussian_noise.jpg',img)\n",
    "cv2.imwrite('after_gaussian_noise.jpg',blur1)"
   ]
  },
  {
   "cell_type": "markdown",
   "metadata": {},
   "source": [
    "## Median filter"
   ]
  },
  {
   "cell_type": "code",
   "execution_count": null,
   "metadata": {},
   "outputs": [],
   "source": [
    "import cv2\n",
    "import numpy as np\n",
    "from skimage.util import random_noise\n",
    "\n",
    "img = cv2.imread(\"picture/logo.png\")\n",
    "img = cv2.cvtColor(img, cv2.COLOR_BGR2RGB)\n",
    "\n",
    "# Add salt-and-pepper noise to the image.\n",
    "noise_img = random_noise(img, mode='s&p',amount=0.3)\n",
    "\n",
    "# The above function returns a floating-point image\n",
    "# on the range [0, 1], thus we changed it to 'uint8'\n",
    "# and from [0,255]\n",
    "noise_img = np.array(255*noise_img, dtype = 'uint8')\n",
    "\n",
    "# 미디언 블러 적용 --- ①\n",
    "blur = cv2.medianBlur(noise_img, 5)\n",
    "\n",
    "# 결과 출력 \n",
    "merged = np.hstack((noise_img,blur))\n",
    "plt.figure(figsize=(10,10)) \n",
    "plt.imshow(merged)\n",
    "plt.show()\n"
   ]
  },
  {
   "cell_type": "code",
   "execution_count": null,
   "metadata": {},
   "outputs": [],
   "source": []
  }
 ],
 "metadata": {
  "kernelspec": {
   "display_name": "Python 3",
   "language": "python",
   "name": "python3"
  },
  "language_info": {
   "codemirror_mode": {
    "name": "ipython",
    "version": 3
   },
   "file_extension": ".py",
   "mimetype": "text/x-python",
   "name": "python",
   "nbconvert_exporter": "python",
   "pygments_lexer": "ipython3",
   "version": "3.7.6"
  },
  "toc": {
   "base_numbering": 1,
   "nav_menu": {},
   "number_sections": true,
   "sideBar": true,
   "skip_h1_title": false,
   "title_cell": "Table of Contents",
   "title_sidebar": "Contents",
   "toc_cell": true,
   "toc_position": {
    "height": "calc(100% - 180px)",
    "left": "10px",
    "top": "150px",
    "width": "188.594px"
   },
   "toc_section_display": true,
   "toc_window_display": true
  }
 },
 "nbformat": 4,
 "nbformat_minor": 2
}
