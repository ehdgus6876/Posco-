{
 "cells": [
  {
   "cell_type": "markdown",
   "metadata": {
    "toc": true
   },
   "source": [
    "<h1>Table of Contents<span class=\"tocSkip\"></span></h1>\n",
    "<div class=\"toc\">\n",
    "    <ul class=\"toc-item\">\n",
    "        <li><span><a href=\"#환경-설치\" data-toc-modified-id=\"환경-설치-1\"><span class=\"toc-item-num\">1&nbsp;&nbsp;</span>환경 설치</a></span>\n",
    "            <ul class=\"toc-item\">\n",
    "                <li><span><a href=\"#설치-확인\" data-toc-modified-id=\"설치-확인-1.1\"><span class=\"toc-item-num\">1.1&nbsp;&nbsp;</span>설치 확인</a></span></li>\n",
    "            </ul>\n",
    "        </li>\n",
    "        <li><span><a href=\"#이미지-다루기\" data-toc-modified-id=\"이미지-다루기-2\"><span class=\"toc-item-num\">2&nbsp;&nbsp;</span>이미지 다루기</a></span>\n",
    "            <ul class=\"toc-item\">\n",
    "                <li><span><a href=\"#이미지-읽기\" data-toc-modified-id=\"이미지-읽기-2.1\"><span class=\"toc-item-num\">2.1&nbsp;&nbsp;</span>이미지 읽기</a></span></li>\n",
    "                <li><span><a href=\"#이미지-보기\" data-toc-modified-id=\"이미지-보기-2.2\"><span class=\"toc-item-num\">2.2&nbsp;&nbsp;</span>이미지 보기</a></span></li>\n",
    "                <li><span><a href=\"#이미지-저장하기\" data-toc-modified-id=\"이미지-저장하기-2.3\"><span class=\"toc-item-num\">2.3&nbsp;&nbsp;</span>이미지 저장하기</a></span></li>\n",
    "                <li><span><a href=\"#Matplotlib-사용하기\" data-toc-modified-id=\"Matplotlib-사용하기-2.4\"><span class=\"toc-item-num\">2.4&nbsp;&nbsp;</span>Matplotlib 사용하기</a></span></li>\n",
    "            </ul>\n",
    "        </li>\n",
    "        <li><span><a href=\"#Basic-Operation\" data-toc-modified-id=\"Basic-Operation-3\"><span class=\"toc-item-num\">3&nbsp;&nbsp;</span>Basic Operation</a></span>\n",
    "            <ul class=\"toc-item\">\n",
    "                <li><span><a href=\"#Pixel-Value\" data-toc-modified-id=\"Pixel-Value-3.1\"><span class=\"toc-item-num\">3.1&nbsp;&nbsp;</span>Pixel Value</a></span></li>\n",
    "                <li><span><a href=\"#이미지-ROI\" data-toc-modified-id=\"이미지-ROI-3.2\"><span class=\"toc-item-num\">3.2&nbsp;&nbsp;</span>이미지 ROI</a></span></li>\n",
    "            </ul>\n",
    "        </li>\n",
    "        <li><span><a href=\"#이미지-연산\" data-toc-modified-id=\"이미지-연산-4\"><span class=\"toc-item-num\">4&nbsp;&nbsp;</span>이미지 연산</a></span>\n",
    "            <ul class=\"toc-item\">\n",
    "                <li><span><a href=\"#이미지-더하기\" data-toc-modified-id=\"이미지-더하기-4.1\"><span class=\"toc-item-num\">4.1&nbsp;&nbsp;</span>이미지 더하기</a></span></li>\n",
    "                <li><span><a href=\"#이미지-Blending\" data-toc-modified-id=\"이미지-Blending-4.2\"><span class=\"toc-item-num\">4.2&nbsp;&nbsp;</span>이미지 Blending</a></span></li>\n",
    "            </ul>\n",
    "        </li>\n",
    "        <li><span><a href=\"#추가-기능\" data-toc-modified-id=\"추가-기능-5\"><span class=\"toc-item-num\">5&nbsp;&nbsp;</span>추가 기능</a></span>\n",
    "            <ul class=\"toc-item\">\n",
    "                <li><span><a href=\"#도형-그리기\" data-toc-modified-id=\"도형-그리기-5.1\"><span class=\"toc-item-num\">5.1&nbsp;&nbsp;</span>도형 그리기</a></span></li>\n",
    "                </ul>\n",
    "            </li>\n",
    "        </ul>\n",
    "    </div>"
   ]
  },
  {
   "cell_type": "markdown",
   "metadata": {},
   "source": [
    "OpenCV tutorial  \n",
    "출처 : https://opencv-python.readthedocs.io/"
   ]
  },
  {
   "cell_type": "markdown",
   "metadata": {},
   "source": [
    "# 환경 설치\n",
    "\n",
    "```\n",
    "- 아나콘다 설치\n",
    "$ bash Anaconda3-2020.07-Linux-x86_64.sh\n",
    "\n",
    "- 환경 설치\n",
    "$ conda env create -f vision_env.yml\n",
    "```"
   ]
  },
  {
   "cell_type": "markdown",
   "metadata": {},
   "source": [
    "## 설치 확인"
   ]
  },
  {
   "cell_type": "code",
   "execution_count": null,
   "metadata": {},
   "outputs": [],
   "source": [
    "import cv2\n",
    "print (cv2.__version__)"
   ]
  },
  {
   "cell_type": "markdown",
   "metadata": {},
   "source": [
    "# 이미지 다루기"
   ]
  },
  {
   "cell_type": "markdown",
   "metadata": {},
   "source": [
    "## 이미지 읽기\n",
    "\n",
    "cv2.imread() 함수를 이용하여 이미지 파일을 읽습니다. 이미지 파일의 경로는 절대/상대경로가 가능합니다.\n",
    "\n",
    "- cv2.IMREAD_COLOR : 이미지 파일을 Color로 읽어들입니다. 투명한 부분은 무시되며, Default값입니다.  \n",
    "- cv2.IMREAD_GRAYSCALE : 이미지를 Grayscale로 읽어 들입니다. 실제 이미지 처리시 중간단계로 많이 사용합니다.  \n",
    "- cv2.IMREAD_UNCHANGED : 이미지파일을 alpha channel까지 포함하여 읽어 들입니다.  \n",
    "\n",
    "*tip : 함수 마우스로 클릭 후 Shift + Tap 누르면 함수에 대한 정보가 뜬다.*\n"
   ]
  },
  {
   "cell_type": "markdown",
   "metadata": {},
   "source": [
    "**cv2.imread(fileName, flag)**  \n",
    "이미지 파일을 flag값에 따라서 읽어들입니다.\n",
    "\n",
    "Parameters:\t\n",
    "- fileName (str) – 이미지파일의 경로\n",
    "- flag (int) – 이미지 파일을 읽을 때의 Option.  \n",
    "\n",
    "Returns:\t\n",
    "- image객체 행렬\n",
    "\n",
    "Return type:\t\n",
    "- numpy.ndarray"
   ]
  },
  {
   "cell_type": "code",
   "execution_count": null,
   "metadata": {},
   "outputs": [],
   "source": [
    "import os\n",
    "os.getcwd()"
   ]
  },
  {
   "cell_type": "code",
   "execution_count": null,
   "metadata": {},
   "outputs": [],
   "source": [
    "import numpy as np\n",
    "import cv2\n",
    "\n",
    "# Load an color image in grayscale\n",
    "img = cv2.imread('./picture/logo.png',cv2.IMREAD_COLOR)"
   ]
  },
  {
   "cell_type": "markdown",
   "metadata": {},
   "source": [
    "img값은 numpy의 ndarray type입니다.   \n",
    "numpy는 python에서 수학적 처리를 위한 모듈로 openCV에서도 많이 사용됩니다.   \n",
    "img가 어떤 형태의 행렬인지 확인을 해보려면 아래와 같이 입력합니다.  "
   ]
  },
  {
   "cell_type": "code",
   "execution_count": null,
   "metadata": {},
   "outputs": [],
   "source": [
    "img.shape"
   ]
  },
  {
   "cell_type": "markdown",
   "metadata": {},
   "source": [
    "세로 370, 가로 300, 3채널(BGR, 컬러) 이미지"
   ]
  },
  {
   "cell_type": "markdown",
   "metadata": {},
   "source": [
    "## 이미지 보기\n",
    "\n",
    "cv2.imshow() 함수는 이미지를 사이즈에 맞게 보여줍니다.\n"
   ]
  },
  {
   "cell_type": "markdown",
   "metadata": {},
   "source": [
    "**cv2.imshow(title, image)**  \n",
    "읽어들인 이미지 파일을 윈도우창에 보여줍니다.\n",
    "\n",
    "Parameters:\t\n",
    "- title (str) – 윈도우 창의 Title\n",
    "- image (numpy.ndarray) – cv2.imread() 의 return값"
   ]
  },
  {
   "cell_type": "code",
   "execution_count": null,
   "metadata": {},
   "outputs": [],
   "source": [
    "import numpy as np\n",
    "import cv2\n",
    "\n",
    "# Load an color image in grayscale\n",
    "img = cv2.imread('./picture/logo.png',cv2.IMREAD_COLOR)\n",
    "\n",
    "cv2.imshow('image',img)\n",
    "cv2.waitKey(0)\n",
    "cv2.destroyAllWindows()"
   ]
  },
  {
   "cell_type": "markdown",
   "metadata": {},
   "source": [
    "## 이미지 저장하기\n",
    "cv2.imwrite() 함수를 이용하여 변환된 이미지나 동영상의 특정 프레임을 저장합니다."
   ]
  },
  {
   "cell_type": "markdown",
   "metadata": {},
   "source": [
    "**cv2.imwrite(fileName, image)**  \n",
    "image파일을 저장합니다.\n",
    "\n",
    "Parameters:\t\n",
    "- fileName (str) – 저장될 파일명\n",
    "- image – 저장할 이미지"
   ]
  },
  {
   "cell_type": "code",
   "execution_count": null,
   "metadata": {},
   "outputs": [],
   "source": [
    "import cv2\n",
    "\n",
    "img = cv2.imread('./picture/logo.png', cv2.IMREAD_GRAYSCALE)\n",
    "\n",
    "cv2.imwrite('./logogray.png',img)"
   ]
  },
  {
   "cell_type": "markdown",
   "metadata": {},
   "source": [
    "## Matplotlib 사용하기"
   ]
  },
  {
   "cell_type": "markdown",
   "metadata": {},
   "source": [
    "openCV는 BGR로 사용하지만, Matplotlib는 RGB로 이미지를 보여주기 때문에 색공간을 바꿔 주어야 합니다.\n",
    "\n",
    "**cv2.cvtColor(img, cv2.COLOR_BGR2RGB)**\n",
    "- img : 이미지 소스\n",
    "- cv2.COLOR_BGR2RGB : BGR을 RGB로 변경\n"
   ]
  },
  {
   "cell_type": "code",
   "execution_count": null,
   "metadata": {
    "scrolled": false
   },
   "outputs": [],
   "source": [
    "#-*- coding:utf-8 -*-\n",
    "import cv2\n",
    "from matplotlib import pyplot as plt # as는 alias 적용시 사용\n",
    "\n",
    "img = cv2.imread('./picture/lena.jpg', cv2.IMREAD_COLOR)\n",
    "\n",
    "plt.imshow(img)\n",
    "plt.xticks([]) # x축 눈금\n",
    "plt.yticks([]) # y축 눈금\n",
    "plt.show()"
   ]
  },
  {
   "cell_type": "code",
   "execution_count": null,
   "metadata": {
    "scrolled": true
   },
   "outputs": [],
   "source": [
    "#-*- coding:utf-8 -*-\n",
    "import cv2\n",
    "from matplotlib import pyplot as plt # as는 alias 적용시 사용\n",
    "\n",
    "img = cv2.imread('./picture/lena.jpg', cv2.IMREAD_COLOR)\n",
    "img = cv2.cvtColor(img, cv2.COLOR_BGR2RGB)\n",
    "\n",
    "plt.imshow(img)\n",
    "plt.xticks([]) # x축 눈금\n",
    "plt.yticks([]) # y축 눈금\n",
    "plt.show()"
   ]
  },
  {
   "cell_type": "markdown",
   "metadata": {},
   "source": [
    "# Basic Operation\n"
   ]
  },
  {
   "cell_type": "markdown",
   "metadata": {},
   "source": [
    "## Pixel Value"
   ]
  },
  {
   "cell_type": "code",
   "execution_count": null,
   "metadata": {
    "scrolled": true
   },
   "outputs": [],
   "source": [
    "import numpy as np\n",
    "import cv2\n",
    "from matplotlib import pyplot as plt # as는 alias 적용시 사용\n",
    "\n",
    "img = cv2.imread('./picture/logo.png')\n",
    "img = cv2.cvtColor(img, cv2.COLOR_BGR2RGB)\n",
    "plt.imshow(img)\n",
    "print(img.shape)"
   ]
  },
  {
   "cell_type": "code",
   "execution_count": null,
   "metadata": {},
   "outputs": [],
   "source": [
    "print(img[25,150])    #빨간색 = (255,0,0)"
   ]
  },
  {
   "cell_type": "code",
   "execution_count": null,
   "metadata": {},
   "outputs": [],
   "source": [
    "print(img[250,200])    #파란색 = (0,0,255)"
   ]
  },
  {
   "cell_type": "markdown",
   "metadata": {},
   "source": [
    "## 이미지 ROI\n",
    "\n",
    "이미지 작업시에는 특정 pixel단위 보다는 특정 영역단위로 작업을 하게 됩니다. 이것을 Region of Image(ROI)라고 합니다.  \n",
    "ROI 설정은 Numpy의 indexing방법을 사용합니다.  \n",
    "만일 아래와 같이 특정 영역에 어떤 물체가 있다는 것을 알고 있으면 그 영역을 설정해서 Copy를 할 수도 있습니다."
   ]
  },
  {
   "cell_type": "code",
   "execution_count": null,
   "metadata": {},
   "outputs": [],
   "source": [
    "img = cv2.imread('./picture/son.jpg')\n",
    "img = cv2.cvtColor(img, cv2.COLOR_BGR2RGB)\n",
    "plt.imshow(img)"
   ]
  },
  {
   "cell_type": "code",
   "execution_count": null,
   "metadata": {},
   "outputs": [],
   "source": [
    "img = cv2.imread('./picture/son.jpg')\n",
    "ball = img[335:390, 245:300] # img[행의 시작점: 행의 끝점, 열의 시작점: 열의 끝점]\n",
    "img[335:390,355:410] = ball # 동일 영역에 Copy\n",
    "img = cv2.cvtColor(img, cv2.COLOR_BGR2RGB)\n",
    "plt.imshow(img)"
   ]
  },
  {
   "cell_type": "markdown",
   "metadata": {},
   "source": [
    "# 이미지 연산"
   ]
  },
  {
   "cell_type": "markdown",
   "metadata": {},
   "source": [
    "## 이미지 더하기\n",
    "\n",
    "이미지를 더하는 방법은 Numpy 연산, 즉 img1 + img2로 하는 방법과\n",
    "OpenCV의 `cv2.add()` 함수를 사용하는 방법이 있습니다. 둘 다 더하는 것은 같지만 결과는 다르게 나타납니다.\n",
    "Numpy는 modulo 연산을 하고, OpenCV의 `cv2.add()` 는 Saturation 연산을 하기 때문입니다."
   ]
  },
  {
   "cell_type": "markdown",
   "metadata": {},
   "source": [
    "**modulo**연산은 나머지 연산 입니다. 시계를 예로 들면, 2시와 14시를 12로 나눈 나머지는 2이기 때문에 둘 다 2시가 됩니다.\n",
    "이미지의 경우, 연산의 결과가 256보다 큰 경우는 256으로 나눈 나머지 값으로 표현합니다.\n",
    "\n",
    "**Saturation**연산은 한계값을 정하고 그 값을 벗어나는 경우는 모두 특정 값으로 계산하는 방식 입니다.  \n",
    "이미지의 경우, 0이하는 모두 0, 255이상은 모두 255로 표현합니다."
   ]
  },
  {
   "cell_type": "code",
   "execution_count": null,
   "metadata": {},
   "outputs": [],
   "source": [
    "import numpy as np\n",
    "import cv2\n",
    "from matplotlib import pyplot as plt # as는 alias 적용시 사용\n",
    "\n",
    "img1 = cv2.imread('./picture/flower1.jpg')\n",
    "img2 = cv2.imread('./picture/flower2.jpg')\n",
    "img1 = cv2.cvtColor(img1, cv2.COLOR_BGR2RGB)\n",
    "img2 = cv2.cvtColor(img2, cv2.COLOR_BGR2RGB)\n",
    "\n",
    "plt.imshow(img1)\n",
    "plt.show()\n",
    "\n",
    "plt.imshow(img2)\n",
    "plt.show()\n",
    "\n",
    "img_res1 = img1+img2\n",
    "img_res2 = cv2.add(img1,img2)\n",
    "\n",
    "plt.imshow(img_res1)\n",
    "plt.show()\n",
    "\n",
    "plt.imshow(img_res2)\n",
    "plt.show()"
   ]
  },
  {
   "cell_type": "markdown",
   "metadata": {},
   "source": [
    "## 이미지 Blending\n",
    "이미지를 서로 합칠 때 가중치를 두어 합치는 방법입니다.\n",
    "\n",
    "$$g(x)=(1−α)f0(x)+αf1(x)$$  \n",
    "\n",
    "$α$ 값이 0 -> 1로 변함에 따라서 이미지가 전환됩니다.\n",
    "\n"
   ]
  },
  {
   "cell_type": "code",
   "execution_count": null,
   "metadata": {},
   "outputs": [],
   "source": [
    "#-*- coding:utf-8 -*-\n",
    "import cv2\n",
    "import numpy as np\n",
    "from matplotlib import pyplot as plt # as는 alias 적용시 사용\n",
    "\n",
    "img1 = cv2.imread('./picture/flower1.jpg')\n",
    "img2 = cv2.imread('./picture/flower2.jpg')\n",
    "img1 = cv2.cvtColor(img1, cv2.COLOR_BGR2RGB)\n",
    "img2 = cv2.cvtColor(img2, cv2.COLOR_BGR2RGB)\n",
    "\n",
    "w = 50 # 가중치\n",
    "\n",
    "dst = cv2.addWeighted(img1,float(100-w) * 0.01, img2,float(w) * 0.01,0)\n",
    "plt.imshow(dst)"
   ]
  },
  {
   "cell_type": "markdown",
   "metadata": {},
   "source": [
    "# 추가 기능"
   ]
  },
  {
   "cell_type": "markdown",
   "metadata": {},
   "source": [
    "## 도형 그리기\n",
    "cv2.line(), cv2.circle(), cv2,rectangle(), cv2.putText() 등을 사용해 다양한 모양의 도형을 그릴 수 있습니다."
   ]
  },
  {
   "cell_type": "markdown",
   "metadata": {},
   "source": [
    "**cv2.line(img, start, end, color, thickness)**  \n",
    "Parameters:\t\n",
    "- img – 그림을 그릴 이미지\n",
    "- start – 시작 좌표(ex; (0,0))\n",
    "- end – 종료 좌표(ex; (500. 500))\n",
    "- color – BGR형태의 Color(ex; (255, 0, 0) -> Blue)\n",
    "- thickness (int) – 선의 두께. pixel"
   ]
  },
  {
   "cell_type": "markdown",
   "metadata": {},
   "source": [
    "**cv2.rectangle(img, start, end, color, thickness)**  \n",
    "Parameters:\t\n",
    "- img – 그림을 그릴 이미지\n",
    "- start – 시작 좌표(ex; (0,0))\n",
    "- end – 종료 좌표(ex; (500. 500))\n",
    "- color – BGR형태의 Color(ex; (255, 0, 0) -> Blue)\n",
    "- thickness (int) – 선의 두께. pixel"
   ]
  },
  {
   "cell_type": "markdown",
   "metadata": {},
   "source": [
    "**cv2.circle(img, center, radian, color, thickness)**  \n",
    "Parameters:\t\n",
    "- img – 그림을 그릴 이미지\n",
    "- center – 원의 중심 좌표(x, y)\n",
    "- radian – 반지름\n",
    "- color – BGR형태의 Color\n",
    "- thickness – 선의 두께, -1 이면 원 안쪽을 채움"
   ]
  },
  {
   "cell_type": "markdown",
   "metadata": {},
   "source": [
    "**cv2.polylines(img, pts, isClosed, color, thickness)** \n",
    "- img – image\n",
    "- pts (array) – 연결할 꼭지점 좌표\n",
    "- isClosed – 닫흰 도형 여부\n",
    "- color – Color\n",
    "- thickness – 선 두께\n"
   ]
  },
  {
   "cell_type": "markdown",
   "metadata": {},
   "source": [
    "**cv2.putText(img, text, org, font, fontSacle, color)** \n",
    "- img – image\n",
    "- text – 표시할 문자열\n",
    "- org – 문자열이 표시될 위치. 문자열의 bottom-left corner점\n",
    "- font – font type. CV2.FONT_XXX\n",
    "- fontSacle – Font Size\n",
    "- color – fond color"
   ]
  },
  {
   "cell_type": "code",
   "execution_count": null,
   "metadata": {},
   "outputs": [],
   "source": [
    "import numpy as np\n",
    "import cv2\n",
    "\n",
    "#모두 0으로 되어 있는 빈 Canvas(검정색)\n",
    "img = np.zeros((512, 512, 3), np.uint8)\n",
    "\n",
    "img = cv2.line(img, (0, 0), (511, 511), (255, 0, 0), 5)\n",
    "\n",
    "img = cv2.rectangle(img, (384, 0), (510, 128), (0,255,0), 3)\n",
    "\n",
    "img = cv2.circle(img, (447,63), 63, (0,0,255), -1)\n",
    "\n",
    "pts = np.array([[10,5], [20,30], [70,20], [50,10]], np.int32) # 각 꼭지점은 2차원 행렬로 선언\n",
    "# 이미지에 표현하기 위해 3차원 행렬로 변환. 변환이전과 이후의 행렬 갯수는 동일해야함.\n",
    "# -1은 원본에 해당하는 값을 그대로 유지.\n",
    "pts = pts.reshape((-1, 1, 2))\n",
    "img = cv2.polylines(img, [pts], True, (0,255,255))\n",
    "\n",
    "cv2.putText(img, 'OpenCV', (10,500), cv2.FONT_HERSHEY_SIMPLEX, 4, (255,255,255), 2)\n",
    "\n",
    "cv2.imshow('image',img)\n",
    "cv2.waitKey(0)\n",
    "cv2.destroyAllWindows()"
   ]
  }
 ],
 "metadata": {
  "kernelspec": {
   "display_name": "Python 3",
   "language": "python",
   "name": "python3"
  },
  "language_info": {
   "codemirror_mode": {
    "name": "ipython",
    "version": 3
   },
   "file_extension": ".py",
   "mimetype": "text/x-python",
   "name": "python",
   "nbconvert_exporter": "python",
   "pygments_lexer": "ipython3",
   "version": "3.7.6"
  },
  "toc": {
   "base_numbering": 1,
   "nav_menu": {},
   "number_sections": true,
   "sideBar": true,
   "skip_h1_title": false,
   "title_cell": "Table of Contents",
   "title_sidebar": "Contents",
   "toc_cell": true,
   "toc_position": {
    "height": "calc(100% - 180px)",
    "left": "10px",
    "top": "150px",
    "width": "191.594px"
   },
   "toc_section_display": true,
   "toc_window_display": true
  }
 },
 "nbformat": 4,
 "nbformat_minor": 4
}
