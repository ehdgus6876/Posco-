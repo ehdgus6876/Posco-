{
 "cells": [
  {
   "cell_type": "code",
   "execution_count": 1,
   "metadata": {},
   "outputs": [],
   "source": [
    "from tensorflow.compat.v1 import ConfigProto, Session\n",
    "from tensorflow.compat.v1.keras.backend import set_session\n",
    "\n",
    "config = ConfigProto()\n",
    "config.gpu_options.allow_growth =True\n",
    "session = Session(config=config)\n",
    "set_session(session)"
   ]
  },
  {
   "cell_type": "code",
   "execution_count": 2,
   "metadata": {},
   "outputs": [
    {
     "name": "stdout",
     "output_type": "stream",
     "text": [
      "WARNING:tensorflow:From <ipython-input-2-4a3f57d5652e>:2: is_gpu_available (from tensorflow.python.framework.test_util) is deprecated and will be removed in a future version.\n",
      "Instructions for updating:\n",
      "Use `tf.config.list_physical_devices('GPU')` instead.\n"
     ]
    },
    {
     "data": {
      "text/plain": [
       "True"
      ]
     },
     "execution_count": 2,
     "metadata": {},
     "output_type": "execute_result"
    }
   ],
   "source": [
    "import tensorflow as tf\n",
    "tf.test.is_gpu_available()"
   ]
  },
  {
   "cell_type": "markdown",
   "metadata": {},
   "source": [
    "## Classification with CIFAR-10 in tf.keras\n",
    "\n",
    "\n",
    "10개의 label로 이루어진 이미지 데이터\n",
    "\n",
    "<img src=\"image/SIFAR10.png\" width=\"500\" >"
   ]
  },
  {
   "cell_type": "code",
   "execution_count": null,
   "metadata": {},
   "outputs": [],
   "source": []
  },
  {
   "cell_type": "markdown",
   "metadata": {},
   "source": [
    "### Import the CIFAR-10 dataset"
   ]
  },
  {
   "cell_type": "markdown",
   "metadata": {
    "ExecuteTime": {
     "end_time": "2020-07-28T05:35:12.517815Z",
     "start_time": "2020-07-28T05:35:12.505816Z"
    }
   },
   "source": [
    "* 프로그램을 구동시키기 위한 패키지와 모듈들을 가져옵니다."
   ]
  },
  {
   "cell_type": "code",
   "execution_count": 3,
   "metadata": {
    "ExecuteTime": {
     "end_time": "2020-08-03T01:01:13.852316Z",
     "start_time": "2020-08-03T01:01:10.554601Z"
    }
   },
   "outputs": [],
   "source": [
    "# 텐서플로우 패키지\n",
    "import tensorflow as tf\n",
    "# 랜덤모듈(랜덤으로 사진 확인 시 사용) \n",
    "import random \n",
    "# 배열을 다루기 위한 모듈\n",
    "import numpy as np  \n",
    "# 차트, 그래프, 그림 등을 표시하기 위한 모듈\n",
    "import matplotlib.pyplot as plt "
   ]
  },
  {
   "cell_type": "markdown",
   "metadata": {},
   "source": [
    "* 케라스로 CIFAR-10 데이터 가져옵니다."
   ]
  },
  {
   "cell_type": "code",
   "execution_count": 4,
   "metadata": {
    "ExecuteTime": {
     "end_time": "2020-08-03T01:01:16.679937Z",
     "start_time": "2020-08-03T01:01:15.344791Z"
    }
   },
   "outputs": [
    {
     "name": "stdout",
     "output_type": "stream",
     "text": [
      "x_train shape :  (50000, 32, 32, 3) y_train shape :  (50000, 1)\n",
      "x_test shape :  (10000, 32, 32, 3) y_test shape :  (10000, 1)\n"
     ]
    }
   ],
   "source": [
    "#x_train와 x_test에 각 50000개의 사진(32x32x3)\n",
    "#y_train, y_test에 각 10000개의 정답 값\n",
    "\n",
    "(x_train, y_train), (x_test, y_test) = tf.keras.datasets.cifar10.load_data() \n",
    "\n",
    "\n",
    "print(\"x_train shape : \", x_train.shape, \"y_train shape : \", y_train.shape)\n",
    "print(\"x_test shape : \", x_test.shape, \"y_test shape : \", y_test.shape)"
   ]
  },
  {
   "cell_type": "markdown",
   "metadata": {},
   "source": [
    "\n",
    "</br>\n",
    "\n",
    "### Data Visualize"
   ]
  },
  {
   "cell_type": "markdown",
   "metadata": {},
   "source": [
    "**0**:airplane, **1**:automobile, **2**:bird, **3**:cat, **4**:deer, **5**:dog, **6**:frog, **7**:horse, **8**:ship, **9**:truck"
   ]
  },
  {
   "cell_type": "markdown",
   "metadata": {},
   "source": [
    "* 0~9까지의 label값에 대응하는 list를 만들어줍니다."
   ]
  },
  {
   "cell_type": "code",
   "execution_count": 5,
   "metadata": {
    "ExecuteTime": {
     "end_time": "2020-08-03T01:01:18.695683Z",
     "start_time": "2020-08-03T01:01:18.684650Z"
    }
   },
   "outputs": [],
   "source": [
    "cifar10_labels = ['airplane',\n",
    "'automobile',\n",
    "'bird',\n",
    "'cat',\n",
    "'deer',\n",
    "'dog',\n",
    "'frog',\n",
    "'horse',\n",
    "'ship',\n",
    "'truck']"
   ]
  },
  {
   "cell_type": "markdown",
   "metadata": {},
   "source": [
    "* 값이 잘 대응되는지 10개 값만 확인해봅니다."
   ]
  },
  {
   "cell_type": "code",
   "execution_count": 6,
   "metadata": {
    "ExecuteTime": {
     "end_time": "2020-08-03T01:01:20.704489Z",
     "start_time": "2020-08-03T01:01:20.695490Z"
    }
   },
   "outputs": [
    {
     "name": "stdout",
     "output_type": "stream",
     "text": [
      "6 frog\n",
      "9 truck\n",
      "9 truck\n",
      "4 deer\n",
      "1 automobile\n",
      "1 automobile\n",
      "2 bird\n",
      "7 horse\n",
      "8 ship\n",
      "3 cat\n"
     ]
    }
   ],
   "source": [
    "for i in y_train.reshape(50000)[:10]:\n",
    "    print(i,cifar10_labels[i])"
   ]
  },
  {
   "cell_type": "markdown",
   "metadata": {},
   "source": [
    "* 사진도 잘 나오는지 확인합니다."
   ]
  },
  {
   "cell_type": "code",
   "execution_count": 7,
   "metadata": {
    "ExecuteTime": {
     "end_time": "2020-08-03T01:03:40.306646Z",
     "start_time": "2020-08-03T01:03:40.165647Z"
    }
   },
   "outputs": [
    {
     "name": "stdout",
     "output_type": "stream",
     "text": [
      "y= 4 | deer\n"
     ]
    },
    {
     "data": {
      "text/plain": [
       "<matplotlib.image.AxesImage at 0x20dbea6b848>"
      ]
     },
     "execution_count": 7,
     "metadata": {},
     "output_type": "execute_result"
    },
    {
     "data": {
      "image/png": "[encoded data removed]",
      "text/plain": [
       "<Figure size 432x288 with 1 Axes>"
      ]
     },
     "metadata": {
      "needs_background": "light"
     },
     "output_type": "display_data"
    }
   ],
   "source": [
    "#0부터 49999까지 수 중에 하나 랜덤으로 추출\n",
    "img_index = random.randint(0,x_train.shape[0]-1)\n",
    "\n",
    "# 해당 데이터의 index 추출\n",
    "label_index = y_train[img_index][0]\n",
    "\n",
    "# matplotlib를 활용하여 그림 표출\n",
    "print(\"y=\", str(label_index), \"|\", cifar10_labels[label_index])\n",
    "plt.imshow(x_train[img_index])"
   ]
  },
  {
   "cell_type": "markdown",
   "metadata": {},
   "source": [
    "\n",
    "\n",
    "</br>\n",
    "\n",
    "### Data Normalization\n",
    "\n",
    "- 학습 능력 향상을 위해서 데이터 정규화를 수행\n",
    "\n",
    "<img src=\"image/datanormal.jfif\">\n"
   ]
  },
  {
   "cell_type": "markdown",
   "metadata": {},
   "source": [
    "* RGB 색은 0부터 255의 값을 가집니다. 이 값을 모두 0부터 1 사이의 값으로 정규화해줍니다."
   ]
  },
  {
   "cell_type": "code",
   "execution_count": 8,
   "metadata": {
    "ExecuteTime": {
     "end_time": "2020-08-03T01:04:32.697738Z",
     "start_time": "2020-08-03T01:04:32.212739Z"
    }
   },
   "outputs": [],
   "source": [
    "# fitting data in similar scale    0~1\n",
    "x_train = x_train.astype('float32') / 255\n",
    "x_test = x_test.astype('float32') / 255"
   ]
  },
  {
   "cell_type": "code",
   "execution_count": 9,
   "metadata": {
    "ExecuteTime": {
     "end_time": "2020-08-03T01:04:57.807961Z",
     "start_time": "2020-08-03T01:04:57.799961Z"
    }
   },
   "outputs": [
    {
     "name": "stdout",
     "output_type": "stream",
     "text": [
      "Number of train data :  50000\n",
      "Number of test data :  10000\n"
     ]
    }
   ],
   "source": [
    "print(\"Number of train data : \", len(x_train))\n",
    "print(\"Number of test data : \", len(x_test))"
   ]
  },
  {
   "cell_type": "markdown",
   "metadata": {},
   "source": [
    "\n",
    "\n",
    "</br>\n",
    "\n",
    "### 데이터를 Train/ Validation/ Test data 셋으로 나눠줍니다.\n",
    "Train data : data for training model </br>\n",
    "\n",
    "Validation data : data for hyperparameter tuning and validation </br>\n",
    "\n",
    "Test data : after all validation and training, at the last test "
   ]
  },
  {
   "cell_type": "code",
   "execution_count": 10,
   "metadata": {
    "ExecuteTime": {
     "end_time": "2020-08-03T01:06:28.622566Z",
     "start_time": "2020-08-03T01:06:28.613565Z"
    }
   },
   "outputs": [
    {
     "name": "stdout",
     "output_type": "stream",
     "text": [
      "45000 train set\n",
      "5000 validation set\n",
      "10000 test set\n"
     ]
    }
   ],
   "source": [
    "# split train | validation\n",
    "(x_train, x_valid) = x_train[5000:], x_train[:5000]\n",
    "(y_train, y_valid) = y_train[5000:], y_train[:5000]\n",
    "\n",
    "print(x_train.shape[0], 'train set')\n",
    "print(x_valid.shape[0], 'validation set')\n",
    "print(x_test.shape[0], 'test set')"
   ]
  },
  {
   "cell_type": "markdown",
   "metadata": {},
   "source": [
    "#### on hot encoding\n",
    "<img src=\"image/onehot.png\" >"
   ]
  },
  {
   "cell_type": "code",
   "execution_count": 11,
   "metadata": {
    "ExecuteTime": {
     "end_time": "2020-08-03T01:12:29.908490Z",
     "start_time": "2020-08-03T01:12:29.897491Z"
    }
   },
   "outputs": [
    {
     "name": "stdout",
     "output_type": "stream",
     "text": [
      "x_train shape:  (45000, 32, 32, 3)\n",
      "y_train shape:  (45000, 10)\n"
     ]
    }
   ],
   "source": [
    "# one-hot encoding in label\n",
    "# only one dimension get value 1 and other dimension value 0 \n",
    "y_train = tf.keras.utils.to_categorical(y_train, 10)\n",
    "y_valid = tf.keras.utils.to_categorical(y_valid, 10)\n",
    "y_test = tf.keras.utils.to_categorical(y_test, 10)\n",
    "\n",
    "print(\"x_train shape: \", x_train.shape )\n",
    "print(\"y_train shape: \", y_train.shape )"
   ]
  },
  {
   "cell_type": "markdown",
   "metadata": {},
   "source": [
    "\n",
    "</br>\n",
    "\n",
    "\n",
    "### Modeling \n",
    "Convolution Layer → Conv2D() </br>\n",
    "\n",
    "Pooling Layer → MaxPooling2D() </br>\n",
    "\n",
    "**Dropout Layer** → Dropout()\n",
    "\n",
    "Fully connected Layer → Flatten(),Dense()\n",
    "\n"
   ]
  },
  {
   "cell_type": "markdown",
   "metadata": {},
   "source": [
    "* Dropout은 모델의 과적합을 막기위한 하나의 방법으로 학습시 랜덤하게 신경망의 일부 연결을 끊어줍니다.\n",
    "\n",
    "<img src=\"image/dropout.png\">"
   ]
  },
  {
   "cell_type": "markdown",
   "metadata": {},
   "source": [
    "* 케라스 순차형 모델을 사용하여 CNN 모델을 쌓아보겠습니다. </br>\n",
    "\n",
    "순차형 모델은 디자인한 Layer를 한층한층씩 쌓아서 모델을 만들어나갑니다.\n",
    "\n",
    "<img src=\"image/sequential.png\" width=\"200\" >"
   ]
  },
  {
   "cell_type": "markdown",
   "metadata": {
    "ExecuteTime": {
     "end_time": "2020-07-28T06:58:13.015063Z",
     "start_time": "2020-07-28T06:58:12.994063Z"
    }
   },
   "source": [
    "#Convolution Layer \n",
    "\n",
    "→ Conv2D(filters: 필터의 개수, kernel_size: 필터의 크기, padding: 패딩 유무(valid=패딩없음), activation: 활성함수, strides: 스트라이드 (1,1))\n",
    "\n",
    "#Pooling Layer → MaxPooling2D()\n",
    "\n",
    "#Dropout Layer → Dropout()\n",
    "\n",
    "#Fully connected Layer → Flatten(),Dense()"
   ]
  },
  {
   "cell_type": "code",
   "execution_count": 12,
   "metadata": {
    "ExecuteTime": {
     "end_time": "2020-07-28T07:37:40.640026Z",
     "start_time": "2020-07-28T07:37:38.580033Z"
    }
   },
   "outputs": [],
   "source": [
    "#케라스 순차형 모델\n",
    "model = tf.keras.Sequential()\n",
    "\n",
    "#padding을 'same'으로 설정하면 stride는 자동으로 설정 됨\n",
    "model.add(tf.keras.layers.Conv2D(filters=64, kernel_size=2, padding='same', activation='relu', input_shape=(32,32,3)))#32x32x64\n",
    "model.add(tf.keras.layers.MaxPooling2D(pool_size=2))#16x16x64\n",
    "model.add(tf.keras.layers.Dropout(0.3))\n",
    "\n",
    "model.add(tf.keras.layers.Conv2D(filters=32, kernel_size=2, padding='same', activation='relu'))#16x16x32\n",
    "model.add(tf.keras.layers.MaxPooling2D(pool_size=2))#8x8x32\n",
    "model.add(tf.keras.layers.Dropout(0.3))"
   ]
  },
  {
   "cell_type": "code",
   "execution_count": 13,
   "metadata": {
    "ExecuteTime": {
     "end_time": "2020-07-28T07:37:40.766025Z",
     "start_time": "2020-07-28T07:37:40.705023Z"
    }
   },
   "outputs": [
    {
     "name": "stdout",
     "output_type": "stream",
     "text": [
      "Model: \"sequential\"\n",
      "_________________________________________________________________\n",
      "Layer (type)                 Output Shape              Param #   \n",
      "=================================================================\n",
      "conv2d (Conv2D)              (None, 32, 32, 64)        832       \n",
      "_________________________________________________________________\n",
      "max_pooling2d (MaxPooling2D) (None, 16, 16, 64)        0         \n",
      "_________________________________________________________________\n",
      "dropout (Dropout)            (None, 16, 16, 64)        0         \n",
      "_________________________________________________________________\n",
      "conv2d_1 (Conv2D)            (None, 16, 16, 32)        8224      \n",
      "_________________________________________________________________\n",
      "max_pooling2d_1 (MaxPooling2 (None, 8, 8, 32)          0         \n",
      "_________________________________________________________________\n",
      "dropout_1 (Dropout)          (None, 8, 8, 32)          0         \n",
      "_________________________________________________________________\n",
      "flatten (Flatten)            (None, 2048)              0         \n",
      "_________________________________________________________________\n",
      "dense (Dense)                (None, 256)               524544    \n",
      "_________________________________________________________________\n",
      "dropout_2 (Dropout)          (None, 256)               0         \n",
      "_________________________________________________________________\n",
      "dense_1 (Dense)              (None, 10)                2570      \n",
      "=================================================================\n",
      "Total params: 536,170\n",
      "Trainable params: 536,170\n",
      "Non-trainable params: 0\n",
      "_________________________________________________________________\n"
     ]
    }
   ],
   "source": [
    "model.add(tf.keras.layers.Flatten()) #fully connected layer 1*2048 \n",
    "\n",
    "model.add(tf.keras.layers.Dense(256, activation='relu')) #1*256\n",
    "model.add(tf.keras.layers.Dropout(0.3))\n",
    "\n",
    "model.add(tf.keras.layers.Dense(10, activation='softmax')) #1*10\n",
    "\n",
    "model.summary()"
   ]
  },
  {
   "cell_type": "markdown",
   "metadata": {},
   "source": [
    "* softmax 함수는 입력 값들을 각 클래스별 확률로 변환해줍니다.\n",
    "\n",
    "<img src=\"image/softmax.jpg\" width=\"400\">"
   ]
  },
  {
   "cell_type": "markdown",
   "metadata": {},
   "source": [
    "### 본인만의 모델을 설계해 보세요 ^^\n",
    "\n",
    "- 첫 번째 conv2D 층의 경우 input_shape (32,32,3)을 꼭 지정해주세요\n",
    "- [Conv2d] 층의 경우 filter와 kernel_size만 수정해서 추가\n",
    "\n",
    "- [MaxPooling2D] 층의 경우 2로만 5개 층 이하로 사용\n",
    "\n",
    "- [Dropout] 층의 경우 웬만하면 0.5 이하로 추가\n",
    "\n",
    "- [Flatten] 층의 경우 Dense 층 전에 넣어주기\n",
    "\n",
    "- [Dense] 층의 경우 맨마지막 10이 되도록\n",
    "--------------------------------------------------------------"
   ]
  },
  {
   "cell_type": "markdown",
   "metadata": {},
   "source": [
    "- keras layer에 대한 보충 설명 참고자료\n",
    "- https://keras.io/ko/layers/convolutional/\n",
    "- https://zereight.tistory.com/227\n",
    "- https://tykimos.github.io/2017/01/27/CNN_Layer_Talk/"
   ]
  },
  {
   "cell_type": "code",
   "execution_count": 14,
   "metadata": {
    "ExecuteTime": {
     "end_time": "2020-07-28T07:37:43.386954Z",
     "start_time": "2020-07-28T07:37:43.061956Z"
    }
   },
   "outputs": [
    {
     "name": "stdout",
     "output_type": "stream",
     "text": [
      "Model: \"sequential_1\"\n",
      "_________________________________________________________________\n",
      "Layer (type)                 Output Shape              Param #   \n",
      "=================================================================\n",
      "conv2d_2 (Conv2D)            (None, 32, 32, 64)        4864      \n",
      "_________________________________________________________________\n",
      "max_pooling2d_2 (MaxPooling2 (None, 16, 16, 64)        0         \n",
      "_________________________________________________________________\n",
      "dropout_3 (Dropout)          (None, 16, 16, 64)        0         \n",
      "_________________________________________________________________\n",
      "conv2d_3 (Conv2D)            (None, 16, 16, 64)        147520    \n",
      "_________________________________________________________________\n",
      "max_pooling2d_3 (MaxPooling2 (None, 8, 8, 64)          0         \n",
      "_________________________________________________________________\n",
      "dropout_4 (Dropout)          (None, 8, 8, 64)          0         \n",
      "_________________________________________________________________\n",
      "conv2d_4 (Conv2D)            (None, 8, 8, 32)          32800     \n",
      "_________________________________________________________________\n",
      "max_pooling2d_4 (MaxPooling2 (None, 4, 4, 32)          0         \n",
      "_________________________________________________________________\n",
      "dropout_5 (Dropout)          (None, 4, 4, 32)          0         \n",
      "_________________________________________________________________\n",
      "conv2d_5 (Conv2D)            (None, 4, 4, 16)          2064      \n",
      "_________________________________________________________________\n",
      "dropout_6 (Dropout)          (None, 4, 4, 16)          0         \n",
      "_________________________________________________________________\n",
      "conv2d_6 (Conv2D)            (None, 4, 4, 16)          1040      \n",
      "_________________________________________________________________\n",
      "dropout_7 (Dropout)          (None, 4, 4, 16)          0         \n",
      "_________________________________________________________________\n",
      "conv2d_7 (Conv2D)            (None, 4, 4, 8)           520       \n",
      "_________________________________________________________________\n",
      "dropout_8 (Dropout)          (None, 4, 4, 8)           0         \n",
      "_________________________________________________________________\n",
      "flatten_1 (Flatten)          (None, 128)               0         \n",
      "_________________________________________________________________\n",
      "dense_2 (Dense)              (None, 256)               33024     \n",
      "_________________________________________________________________\n",
      "dropout_9 (Dropout)          (None, 256)               0         \n",
      "_________________________________________________________________\n",
      "dense_3 (Dense)              (None, 128)               32896     \n",
      "_________________________________________________________________\n",
      "dense_4 (Dense)              (None, 64)                8256      \n",
      "_________________________________________________________________\n",
      "dense_5 (Dense)              (None, 10)                650       \n",
      "=================================================================\n",
      "Total params: 263,634\n",
      "Trainable params: 263,634\n",
      "Non-trainable params: 0\n",
      "_________________________________________________________________\n"
     ]
    }
   ],
   "source": [
    "\n",
    "\n",
    "model = tf.keras.Sequential()\n",
    "\n",
    "\n",
    "model.add(tf.keras.layers.Conv2D(filters=64, kernel_size=5, padding='same', activation='relu', input_shape=(32,32,3)))\n",
    "model.add(tf.keras.layers.MaxPooling2D(pool_size=2))\n",
    "model.add(tf.keras.layers.Dropout(0.2))\n",
    "\n",
    "model.add(tf.keras.layers.Conv2D(filters=64, kernel_size=6, padding='same', activation='relu'))\n",
    "model.add(tf.keras.layers.MaxPooling2D(pool_size=2))\n",
    "model.add(tf.keras.layers.Dropout(0.2))\n",
    "\n",
    "\n",
    "model.add(tf.keras.layers.Conv2D(filters=32, kernel_size=4, padding='same', activation='relu'))\n",
    "model.add(tf.keras.layers.MaxPooling2D(pool_size=2))\n",
    "model.add(tf.keras.layers.Dropout(0.2))\n",
    "\n",
    "\n",
    "model.add(tf.keras.layers.Conv2D(filters=16, kernel_size=2, padding='same', activation='relu'))\n",
    "model.add(tf.keras.layers.Dropout(0.3))\n",
    "\n",
    "\n",
    "model.add(tf.keras.layers.Conv2D(filters=16, kernel_size=2, padding='same', activation='relu'))\n",
    "model.add(tf.keras.layers.Dropout(0.3))\n",
    "\n",
    "\n",
    "model.add(tf.keras.layers.Conv2D(filters=8, kernel_size=2, padding='same', activation='relu'))\n",
    "model.add(tf.keras.layers.Dropout(0.3))\n",
    "\n",
    "\n",
    "model.add(tf.keras.layers.Flatten()) #fully connected layer\n",
    "\n",
    "model.add(tf.keras.layers.Dense(256, activation='relu'))\n",
    "model.add(tf.keras.layers.Dropout(0.3))\n",
    "\n",
    "model.add(tf.keras.layers.Dense(128, activation='relu'))\n",
    "\n",
    "model.add(tf.keras.layers.Dense(64, activation='relu'))\n",
    "\n",
    "model.add(tf.keras.layers.Dense(10, activation='softmax'))\n",
    "\n",
    "model.summary()\n",
    "\n",
    "\n"
   ]
  },
  {
   "cell_type": "markdown",
   "metadata": {},
   "source": [
    "\n",
    "</br>\n",
    "\n",
    "### Model Compile\n",
    "학습 프로세스 구성</br>\n",
    "optimizer, loss function, metrics "
   ]
  },
  {
   "cell_type": "code",
   "execution_count": 15,
   "metadata": {
    "ExecuteTime": {
     "end_time": "2020-07-28T07:37:45.658131Z",
     "start_time": "2020-07-28T07:37:45.610134Z"
    }
   },
   "outputs": [],
   "source": [
    "model.compile(loss='categorical_crossentropy',\n",
    "              optimizer = tf.keras.optimizers.Adam(lr=0.001),\n",
    "              metrics = ['accuracy']) # 평가 기준 "
   ]
  },
  {
   "cell_type": "markdown",
   "metadata": {},
   "source": [
    "* learning rate의 경우 너무 크게 주면 안됩니다.\n",
    "<img src=\"image/learn.jpg\" width=\"500\">"
   ]
  },
  {
   "cell_type": "markdown",
   "metadata": {},
   "source": [
    "\n",
    "\n",
    "</br>\n",
    "\n",
    "### Model Training\n",
    "ModelCheckpoint API로 epoch마다 모델 저장 "
   ]
  },
  {
   "cell_type": "code",
   "execution_count": 16,
   "metadata": {
    "ExecuteTime": {
     "end_time": "2020-07-28T07:38:56.552716Z",
     "start_time": "2020-07-28T07:37:47.907381Z"
    },
    "scrolled": true
   },
   "outputs": [
    {
     "name": "stdout",
     "output_type": "stream",
     "text": [
      "Train on 45000 samples, validate on 5000 samples\n",
      "Epoch 1/10\n",
      "44992/45000 [============================>.] - ETA: 0s - loss: 1.9606 - accuracy: 0.2394\n",
      "Epoch 00001: val_loss improved from inf to 1.69925, saving model to model.weights.best.hdf5\n",
      "45000/45000 [==============================] - 10s 224us/sample - loss: 1.9605 - accuracy: 0.2394 - val_loss: 1.6993 - val_accuracy: 0.3640\n",
      "Epoch 2/10\n",
      "44992/45000 [============================>.] - ETA: 0s - loss: 1.6986 - accuracy: 0.3498\n",
      "Epoch 00002: val_loss improved from 1.69925 to 1.59060, saving model to model.weights.best.hdf5\n",
      "45000/45000 [==============================] - 8s 175us/sample - loss: 1.6985 - accuracy: 0.3497 - val_loss: 1.5906 - val_accuracy: 0.3818\n",
      "Epoch 3/10\n",
      "44800/45000 [============================>.] - ETA: 0s - loss: 1.5926 - accuracy: 0.3980\n",
      "Epoch 00003: val_loss improved from 1.59060 to 1.58373, saving model to model.weights.best.hdf5\n",
      "45000/45000 [==============================] - 8s 173us/sample - loss: 1.5925 - accuracy: 0.3981 - val_loss: 1.5837 - val_accuracy: 0.4184\n",
      "Epoch 4/10\n",
      "44928/45000 [============================>.] - ETA: 0s - loss: 1.5140 - accuracy: 0.4318\n",
      "Epoch 00004: val_loss improved from 1.58373 to 1.38060, saving model to model.weights.best.hdf5\n",
      "45000/45000 [==============================] - 8s 170us/sample - loss: 1.5140 - accuracy: 0.4318 - val_loss: 1.3806 - val_accuracy: 0.4900\n",
      "Epoch 5/10\n",
      "44928/45000 [============================>.] - ETA: 0s - loss: 1.4462 - accuracy: 0.4666\n",
      "Epoch 00005: val_loss improved from 1.38060 to 1.34116, saving model to model.weights.best.hdf5\n",
      "45000/45000 [==============================] - 8s 169us/sample - loss: 1.4460 - accuracy: 0.4668 - val_loss: 1.3412 - val_accuracy: 0.5164\n",
      "Epoch 6/10\n",
      "44800/45000 [============================>.] - ETA: 0s - loss: 1.3832 - accuracy: 0.4915\n",
      "Epoch 00006: val_loss improved from 1.34116 to 1.22670, saving model to model.weights.best.hdf5\n",
      "45000/45000 [==============================] - 7s 146us/sample - loss: 1.3833 - accuracy: 0.4915 - val_loss: 1.2267 - val_accuracy: 0.5546\n",
      "Epoch 7/10\n",
      "44992/45000 [============================>.] - ETA: 0s - loss: 1.3396 - accuracy: 0.5127\n",
      "Epoch 00007: val_loss improved from 1.22670 to 1.15219, saving model to model.weights.best.hdf5\n",
      "45000/45000 [==============================] - 6s 143us/sample - loss: 1.3396 - accuracy: 0.5127 - val_loss: 1.1522 - val_accuracy: 0.5838\n",
      "Epoch 8/10\n",
      "44928/45000 [============================>.] - ETA: 0s - loss: 1.3009 - accuracy: 0.5327\n",
      "Epoch 00008: val_loss did not improve from 1.15219\n",
      "45000/45000 [==============================] - 6s 142us/sample - loss: 1.3008 - accuracy: 0.5327 - val_loss: 1.2320 - val_accuracy: 0.5490\n",
      "Epoch 9/10\n",
      "44736/45000 [============================>.] - ETA: 0s - loss: 1.2660 - accuracy: 0.5439\n",
      "Epoch 00009: val_loss improved from 1.15219 to 1.13387, saving model to model.weights.best.hdf5\n",
      "45000/45000 [==============================] - 6s 143us/sample - loss: 1.2660 - accuracy: 0.5441 - val_loss: 1.1339 - val_accuracy: 0.5916\n",
      "Epoch 10/10\n",
      "44800/45000 [============================>.] - ETA: 0s - loss: 1.2349 - accuracy: 0.5517\n",
      "Epoch 00010: val_loss improved from 1.13387 to 1.09864, saving model to model.weights.best.hdf5\n",
      "45000/45000 [==============================] - 6s 143us/sample - loss: 1.2351 - accuracy: 0.5516 - val_loss: 1.0986 - val_accuracy: 0.6198\n"
     ]
    },
    {
     "data": {
      "text/plain": [
       "<tensorflow.python.keras.callbacks.History at 0x20d84306448>"
      ]
     },
     "execution_count": 16,
     "metadata": {},
     "output_type": "execute_result"
    }
   ],
   "source": [
    "from tensorflow.keras.callbacks import ModelCheckpoint\n",
    "\n",
    "checkpointer = ModelCheckpoint(filepath = 'model.weights.best.hdf5', verbose = 1, save_best_only=True) # verbose 1 : seeing progress \n",
    "\n",
    "model.fit(x_train,\n",
    "          y_train,\n",
    "          batch_size=64,\n",
    "          epochs=10,\n",
    "          validation_data=(x_valid,y_valid),\n",
    "         callbacks=[checkpointer])"
   ]
  },
  {
   "cell_type": "markdown",
   "metadata": {},
   "source": [
    "<img src=\"image/batch.png\" width=\"600\">"
   ]
  },
  {
   "cell_type": "markdown",
   "metadata": {},
   "source": [
    "### Model Test"
   ]
  },
  {
   "cell_type": "code",
   "execution_count": 14,
   "metadata": {
    "ExecuteTime": {
     "end_time": "2020-07-28T07:38:57.887715Z",
     "start_time": "2020-07-28T07:38:56.616716Z"
    }
   },
   "outputs": [
    {
     "name": "stdout",
     "output_type": "stream",
     "text": [
      "10000/10000 [==============================] - 1s 85us/sample - loss: 0.8592 - accuracy: 0.6957\n",
      "Test Accuracy:  0.6957\n"
     ]
    }
   ],
   "source": [
    "# get the best valid weight\n",
    "model.load_weights('model.weights.best.hdf5') \n",
    "\n",
    "\n",
    "# Test Accuracy\n",
    "score = model.evaluate(x_test, y_test, verbose=1)\n",
    "\n",
    "print(\"Test Accuracy: \", score[1])  # [0] : test loss, [1] : accuracy"
   ]
  },
  {
   "cell_type": "markdown",
   "metadata": {},
   "source": [
    "\n",
    "\n",
    "</br>\n",
    "\n",
    "### Visualize Prediction"
   ]
  },
  {
   "cell_type": "markdown",
   "metadata": {},
   "source": [
    "#### np.random.choice(a, size=None, replace=True, p=None)\n",
    "- a : 데이터를 넣어주면 된다. 배열이면 원래의 데이터, 정수이면 range(a) 명령으로 데이터 생성\n",
    "- size : 정수. 샘플 숫자 shape으로 넣으면 매트릭스를 생성\n",
    "- replace : 중복의 허용 여부. 불리언. True이면 한번 선택한 데이터를 다시 선택 가능\n",
    "- p : 배열. 각 데이터가 선택될 수 있는 확률"
   ]
  },
  {
   "cell_type": "code",
   "execution_count": 15,
   "metadata": {
    "ExecuteTime": {
     "end_time": "2020-07-28T07:38:59.340719Z",
     "start_time": "2020-07-28T07:38:57.966717Z"
    }
   },
   "outputs": [
    {
     "data": {
      "image/png": "[encoded data removed]",
      "text/plain": [
       "<Figure size 1440x576 with 15 Axes>"
      ]
     },
     "metadata": {},
     "output_type": "display_data"
    }
   ],
   "source": [
    "y_hat = model.predict(x_test) #[0.1, 0.1, 0.2, 0.05, 0.05, 0.5]\n",
    "\n",
    "figure = plt.figure(figsize=(20,8))\n",
    "\n",
    "for i, index in enumerate(np.random.choice(x_test.shape[0], size=15, replace=False)):\n",
    "    axis = figure.add_subplot(3,5, i+1, xticks=[], yticks=[])\n",
    "    axis.imshow(x_test[index])\n",
    "    predict_index = np.argmax(y_hat[index]) #[0.1, 0.1, 0.2, 0.05, 0.05, 0.5] → 4\n",
    "    true_index = np.argmax(y_test[index])\n",
    "    \n",
    "    axis.set_title(\"{} ({})\".format(cifar10_labels[predict_index],\n",
    "                                   cifar10_labels[true_index]),\n",
    "                                   color = (\"green\" if predict_index == true_index else \"red\"))"
   ]
  },
  {
   "cell_type": "markdown",
   "metadata": {},
   "source": [
    "- matplotlib.figure 참고\n",
    "- https://m.blog.naver.com/PostView.nhn?blogId=jung2381187&logNo=220408468960&proxyReferer=https%3A%2F%2Fwww.google.com%2F"
   ]
  }
 ],
 "metadata": {
  "hide_input": false,
  "kernelspec": {
   "display_name": "Python 3",
   "language": "python",
   "name": "python3"
  },
  "language_info": {
   "codemirror_mode": {
    "name": "ipython",
    "version": 3
   },
   "file_extension": ".py",
   "mimetype": "text/x-python",
   "name": "python",
   "nbconvert_exporter": "python",
   "pygments_lexer": "ipython3",
   "version": "3.7.6"
  },
  "toc": {
   "base_numbering": 1,
   "nav_menu": {},
   "number_sections": true,
   "sideBar": true,
   "skip_h1_title": false,
   "title_cell": "Table of Contents",
   "title_sidebar": "Contents",
   "toc_cell": false,
   "toc_position": {
    "height": "calc(100% - 180px)",
    "left": "10px",
    "top": "150px",
    "width": "165px"
   },
   "toc_section_display": true,
   "toc_window_display": true
  },
  "varInspector": {
   "cols": {
    "lenName": 16,
    "lenType": 16,
    "lenVar": 40
   },
   "kernels_config": {
    "python": {
     "delete_cmd_postfix": "",
     "delete_cmd_prefix": "del ",
     "library": "var_list.py",
     "varRefreshCmd": "print(var_dic_list())"
    },
    "r": {
     "delete_cmd_postfix": ") ",
     "delete_cmd_prefix": "rm(",
     "library": "var_list.r",
     "varRefreshCmd": "cat(var_dic_list()) "
    }
   },
   "types_to_exclude": [
    "module",
    "function",
    "builtin_function_or_method",
    "instance",
    "_Feature"
   ],
   "window_display": false
  }
 },
 "nbformat": 4,
 "nbformat_minor": 4
}
