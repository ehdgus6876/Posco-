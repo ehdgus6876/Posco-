{
 "cells": [
  {
   "cell_type": "markdown",
   "metadata": {
    "slideshow": {
     "slide_type": "slide"
    }
   },
   "source": [
    "# CNN (CIFAR10)\n",
    "## 1. Library, Data Preprocessing \n",
    "## 2. Solve classification with Pytorch\n",
    "## 3. Show the result "
   ]
  },
  {
   "cell_type": "markdown",
   "metadata": {
    "slideshow": {
     "slide_type": "slide"
    }
   },
   "source": [
    "# Library"
   ]
  },
  {
   "cell_type": "code",
   "execution_count": 1,
   "metadata": {
    "slideshow": {
     "slide_type": "fragment"
    }
   },
   "outputs": [
    {
     "name": "stdout",
     "output_type": "stream",
     "text": [
      "device: gpu\n"
     ]
    }
   ],
   "source": [
    "import torch\n",
    "import torch.nn as nn\n",
    "import torch.optim as optim\n",
    "import torch.nn.init as init\n",
    "import torchvision.datasets as dataset # for loading dataset (mnist)\n",
    "import torchvision.transforms as transforms # for processing datasets\n",
    "from torch.utils.data import DataLoader # for making dataset easier to use \n",
    "\n",
    "from matplotlib import pyplot as plt\n",
    "import numpy as np\n",
    "\n",
    "device = torch.device(\"cuda:0\" if torch.cuda.is_available() else \"cpu\")\n",
    "print(\"device: gpu\") if torch.cuda.is_available() else print(\"device: cpu\")"
   ]
  },
  {
   "cell_type": "markdown",
   "metadata": {
    "slideshow": {
     "slide_type": "slide"
    }
   },
   "source": [
    "# Hyper parameter setting"
   ]
  },
  {
   "cell_type": "code",
   "execution_count": 2,
   "metadata": {
    "slideshow": {
     "slide_type": "fragment"
    }
   },
   "outputs": [],
   "source": [
    "# hypter parameter setting\n",
    "learning_rate = 0.4\n",
    "training_epochs = 200\n",
    "batch_size = 512\n",
    "momentum = 0.9# 이전의 gradient 정보를 갖고 반영해준다.\n",
    "\n",
    "\n",
    "activation = nn.ReLU()\n",
    "max_pool = nn.MaxPool2d(2,2) # kerel size, stride size, padding size "
   ]
  },
  {
   "cell_type": "markdown",
   "metadata": {
    "slideshow": {
     "slide_type": "slide"
    }
   },
   "source": [
    "# Load data & Pre-process data"
   ]
  },
  {
   "cell_type": "code",
   "execution_count": 3,
   "metadata": {
    "slideshow": {
     "slide_type": "fragment"
    }
   },
   "outputs": [
    {
     "name": "stdout",
     "output_type": "stream",
     "text": [
      "Files already downloaded and verified\n",
      "Files already downloaded and verified\n",
      "len(train_data):  50000\n",
      "len(test_data):  10000\n",
      "data tensor([[[0.2314, 0.2431, 0.2471],\n",
      "         [0.1686, 0.1804, 0.1765],\n",
      "         [0.1961, 0.1882, 0.1686],\n",
      "         ...,\n",
      "         [0.6196, 0.5176, 0.4235],\n",
      "         [0.5961, 0.4902, 0.4000],\n",
      "         [0.5804, 0.4863, 0.4039]],\n",
      "\n",
      "        [[0.0627, 0.0784, 0.0784],\n",
      "         [0.0000, 0.0000, 0.0000],\n",
      "         [0.0706, 0.0314, 0.0000],\n",
      "         ...,\n",
      "         [0.4824, 0.3451, 0.2157],\n",
      "         [0.4667, 0.3255, 0.1961],\n",
      "         [0.4784, 0.3412, 0.2235]],\n",
      "\n",
      "        [[0.0980, 0.0941, 0.0824],\n",
      "         [0.0627, 0.0275, 0.0000],\n",
      "         [0.1922, 0.1059, 0.0314],\n",
      "         ...,\n",
      "         [0.4627, 0.3294, 0.1961],\n",
      "         [0.4706, 0.3294, 0.1961],\n",
      "         [0.4275, 0.2863, 0.1647]],\n",
      "\n",
      "        ...,\n",
      "\n",
      "        [[0.8157, 0.6667, 0.3765],\n",
      "         [0.7882, 0.6000, 0.1333],\n",
      "         [0.7765, 0.6314, 0.1020],\n",
      "         ...,\n",
      "         [0.6275, 0.5216, 0.2745],\n",
      "         [0.2196, 0.1216, 0.0275],\n",
      "         [0.2078, 0.1333, 0.0784]],\n",
      "\n",
      "        [[0.7059, 0.5451, 0.3765],\n",
      "         [0.6784, 0.4824, 0.1647],\n",
      "         [0.7294, 0.5647, 0.1176],\n",
      "         ...,\n",
      "         [0.7216, 0.5804, 0.3686],\n",
      "         [0.3804, 0.2431, 0.1333],\n",
      "         [0.3255, 0.2078, 0.1333]],\n",
      "\n",
      "        [[0.6941, 0.5647, 0.4549],\n",
      "         [0.6588, 0.5059, 0.3686],\n",
      "         [0.7020, 0.5569, 0.3412],\n",
      "         ...,\n",
      "         [0.8471, 0.7216, 0.5490],\n",
      "         [0.5922, 0.4627, 0.3294],\n",
      "         [0.4824, 0.3608, 0.2824]]])\n",
      "data shape:  torch.Size([32, 32, 3])\n",
      "label:  6\n"
     ]
    },
    {
     "data": {
      "image/png": "[encoded data removed]",
      "text/plain": [
       "<Figure size 432x288 with 1 Axes>"
      ]
     },
     "metadata": {
      "needs_background": "light"
     },
     "output_type": "display_data"
    }
   ],
   "source": [
    "# load data\n",
    "train_data = dataset.CIFAR10(\"./\", train = True, transform = transforms.ToTensor(), target_transform = None, download = True)\n",
    "test_data = dataset.CIFAR10(\"./\", train = False, transform = transforms.ToTensor(), target_transform = None, download = True)\n",
    "\n",
    "# check the data\n",
    "print('len(train_data): ', len(train_data))\n",
    "print('len(test_data): ', len(test_data))\n",
    "\n",
    "x_train, y_train = train_data[0]\n",
    "x_train = np.transpose(x_train, (1, 2, 0))\n",
    "\n",
    "print('data', x_train)\n",
    "print('data shape: ', x_train.shape)\n",
    "print('label: ', y_train)\n",
    "\n",
    "plt.figure()\n",
    "plt.imshow(x_train)\n",
    "plt.show()"
   ]
  },
  {
   "cell_type": "code",
   "execution_count": 4,
   "metadata": {},
   "outputs": [
    {
     "name": "stdout",
     "output_type": "stream",
     "text": [
      "data shape: torch.Size([512, 3, 32, 32])\n",
      "label: tensor([7, 4, 9, 4, 6, 2, 8, 6, 9, 2, 9, 2, 3, 7, 5, 4, 3, 4, 2, 5, 1, 9, 8, 4,\n",
      "        0, 0, 0, 0, 3, 1, 6, 1, 1, 7, 7, 7, 0, 2, 0, 1, 3, 5, 5, 1, 9, 7, 1, 7,\n",
      "        5, 4, 5, 9, 2, 7, 2, 3, 0, 5, 2, 5, 5, 8, 7, 7, 2, 5, 5, 2, 3, 3, 0, 2,\n",
      "        3, 4, 5, 1, 8, 0, 4, 8, 9, 0, 8, 4, 8, 0, 3, 2, 1, 9, 8, 0, 5, 1, 4, 6,\n",
      "        1, 5, 6, 7, 8, 7, 6, 2, 0, 6, 7, 4, 8, 5, 7, 4, 5, 1, 5, 1, 6, 6, 6, 9,\n",
      "        0, 8, 4, 0, 0, 2, 6, 4, 6, 0, 5, 4, 1, 9, 8, 3, 1, 3, 3, 2, 7, 4, 9, 9,\n",
      "        0, 6, 1, 1, 2, 7, 0, 0, 7, 9, 7, 3, 3, 0, 6, 0, 5, 7, 6, 7, 8, 1, 8, 1,\n",
      "        8, 4, 8, 1, 0, 4, 1, 0, 0, 5, 4, 7, 7, 7, 8, 4, 1, 3, 0, 0, 8, 0, 3, 4,\n",
      "        7, 1, 0, 0, 4, 2, 6, 2, 6, 9, 7, 0, 8, 8, 1, 5, 1, 8, 1, 8, 3, 1, 7, 3,\n",
      "        7, 7, 7, 5, 6, 5, 9, 0, 0, 8, 9, 4, 7, 4, 4, 6, 3, 3, 9, 5, 1, 0, 7, 9,\n",
      "        6, 8, 6, 8, 2, 5, 8, 3, 8, 3, 6, 8, 5, 1, 0, 3, 9, 4, 1, 8, 4, 0, 4, 4,\n",
      "        9, 1, 1, 7, 0, 7, 9, 0, 6, 1, 9, 6, 7, 8, 5, 4, 0, 3, 4, 6, 9, 7, 3, 3,\n",
      "        3, 0, 7, 4, 3, 8, 9, 1, 2, 3, 2, 9, 3, 5, 1, 2, 9, 0, 5, 2, 2, 8, 0, 7,\n",
      "        2, 1, 1, 1, 6, 1, 1, 6, 0, 2, 9, 8, 9, 4, 8, 5, 6, 6, 6, 9, 7, 3, 3, 5,\n",
      "        1, 5, 6, 7, 9, 0, 0, 1, 5, 0, 3, 1, 9, 3, 4, 7, 0, 7, 0, 8, 9, 0, 6, 3,\n",
      "        6, 9, 1, 3, 2, 1, 1, 5, 6, 7, 1, 6, 9, 2, 2, 7, 6, 1, 0, 2, 4, 0, 9, 5,\n",
      "        3, 7, 8, 9, 3, 7, 8, 4, 3, 5, 0, 8, 9, 7, 8, 2, 9, 8, 0, 5, 3, 4, 5, 7,\n",
      "        1, 1, 1, 9, 7, 2, 5, 1, 4, 2, 1, 2, 4, 6, 1, 9, 6, 5, 8, 5, 3, 0, 6, 6,\n",
      "        0, 4, 5, 0, 3, 0, 2, 2, 0, 9, 9, 2, 6, 1, 1, 5, 5, 1, 6, 2, 7, 6, 2, 9,\n",
      "        9, 8, 2, 6, 5, 2, 4, 0, 7, 6, 1, 3, 0, 2, 0, 2, 7, 4, 7, 0, 2, 2, 6, 1,\n",
      "        4, 7, 3, 9, 3, 8, 3, 1, 5, 3, 3, 9, 5, 3, 2, 5, 0, 4, 5, 5, 5, 6, 4, 9,\n",
      "        6, 4, 4, 9, 6, 4, 3, 9])\n"
     ]
    },
    {
     "data": {
      "image/png": "[encoded data removed]",
      "text/plain": [
       "<Figure size 432x288 with 1 Axes>"
      ]
     },
     "metadata": {
      "needs_background": "light"
     },
     "output_type": "display_data"
    }
   ],
   "source": [
    "# Pre-process (batch, shuffle)\n",
    "train_loader = torch.utils.data.DataLoader(train_data, batch_size = batch_size, shuffle = True, num_workers = 1, drop_last = True)\n",
    "test_loader = torch.utils.data.DataLoader(test_data, batch_size = batch_size, shuffle = True, num_workers = 1, drop_last = True)\n",
    "\n",
    "# check the data \n",
    "examples = enumerate(train_loader)\n",
    "batch_idx, (example_data, example_target) = next(examples)\n",
    "\n",
    "print('data shape:', example_data.shape)\n",
    "print('label:', example_target)\n",
    "\n",
    "check_image = example_data[0]\n",
    "check_image = np.transpose(check_image, (1, 2, 0))\n",
    "\n",
    "plt.figure()\n",
    "plt.imshow(check_image)\n",
    "plt.show()"
   ]
  },
  {
   "cell_type": "markdown",
   "metadata": {
    "slideshow": {
     "slide_type": "slide"
    }
   },
   "source": [
    "# Model & Optimization and Loss function"
   ]
  },
  {
   "cell_type": "code",
   "execution_count": 5,
   "metadata": {
    "slideshow": {
     "slide_type": "fragment"
    }
   },
   "outputs": [],
   "source": [
    "class CNN(nn.Module):\n",
    "    def __init__(self):\n",
    "        super(CNN, self).__init__() # for initializing nn.Module (parent class)\n",
    "        self.feature_extraction = nn.Sequential(\n",
    "            nn.Conv2d(3, 16, 5,padding=1), # number of input channel, number of output channel, kernel size   \n",
    "            activation,          # we can set stride size and padding size. if we do not set the these parameters, default value is 1, 0.\n",
    "\n",
    "            # 16 X 30 X 30\n",
    "            \n",
    "            nn.Conv2d(16, 32,5,padding=1),\n",
    "            activation,\n",
    "            \n",
    "            # 32 X 28 X 28\n",
    "            \n",
    "            max_pool,\n",
    "            \n",
    "            # 32 X 14 X 14\n",
    "            \n",
    "            nn.Conv2d(32,64,5,padding=1),\n",
    "            activation,\n",
    "            \n",
    "            # 64 X 12 X 12\n",
    "            \n",
    "            max_pool,\n",
    "            \n",
    "            # 64 X 6 X 6\n",
    "            \n",
    "            \n",
    "            nn.Conv2d(64,1280,5,padding=2),\n",
    "            activation,\n",
    "            \n",
    "            # 1280 X 6 X 6\n",
    "            \n",
    "            max_pool\n",
    "            \n",
    "            # 1280 X 3 X 3\n",
    "                        \n",
    "        )\n",
    "        self.classifier = nn.Sequential(\n",
    "            nn.Linear(1280 * 3 * 3, 200),\n",
    "            nn.BatchNorm1d(200),\n",
    "            activation,\n",
    "            nn.Dropout(.2),\n",
    "            nn.Linear(200, 10)\n",
    "        )\n",
    "    def forward(self, x):\n",
    "        extracted_feature = self.feature_extraction(x) # [32, 64, 4, 4]\n",
    "        flatten = extracted_feature.view(batch_size, -1) # [32, 64 * 4 * 4]\n",
    "        result = self.classifier(flatten)\n",
    "        return result\n",
    "\n",
    "model = CNN().to(device)\n",
    "model.train()\n",
    "loss_function = nn.CrossEntropyLoss()\n",
    "optimizer = optim.SGD(model.parameters(), lr = learning_rate, momentum = 0.9,weight_decay=0.000125*batch_size)"
   ]
  },
  {
   "cell_type": "code",
   "execution_count": 6,
   "metadata": {
    "scrolled": true,
    "slideshow": {
     "slide_type": "fragment"
    }
   },
   "outputs": [
    {
     "name": "stdout",
     "output_type": "stream",
     "text": [
      "0 epoch loss: 2.146392583847046\n",
      "1 epoch loss: 2.2319564819335938\n",
      "2 epoch loss: 2.297243595123291\n",
      "3 epoch loss: 2.2762258052825928\n",
      "4 epoch loss: 2.2553248405456543\n",
      "5 epoch loss: 2.17309308052063\n",
      "6 epoch loss: 2.283318281173706\n",
      "7 epoch loss: 2.2510340213775635\n",
      "8 epoch loss: 2.237156391143799\n",
      "9 epoch loss: 2.2796378135681152\n",
      "10 epoch loss: 2.2402327060699463\n",
      "11 epoch loss: 2.2749388217926025\n",
      "12 epoch loss: 2.2452313899993896\n",
      "13 epoch loss: 2.270965814590454\n",
      "14 epoch loss: 2.3080737590789795\n",
      "15 epoch loss: 2.3021576404571533\n",
      "16 epoch loss: 2.305670976638794\n",
      "17 epoch loss: 2.303467035293579\n",
      "18 epoch loss: 2.302330732345581\n",
      "19 epoch loss: 2.3062286376953125\n",
      "20 epoch loss: 2.299673557281494\n",
      "21 epoch loss: 2.3022289276123047\n",
      "22 epoch loss: 2.3021180629730225\n",
      "23 epoch loss: 2.307770013809204\n",
      "24 epoch loss: 2.305006980895996\n",
      "25 epoch loss: 2.3018581867218018\n",
      "26 epoch loss: 2.302022933959961\n",
      "27 epoch loss: 2.3034377098083496\n",
      "28 epoch loss: 2.303802967071533\n",
      "29 epoch loss: 2.3027567863464355\n",
      "30 epoch loss: 2.3050014972686768\n",
      "31 epoch loss: 2.3051106929779053\n",
      "32 epoch loss: 2.3046913146972656\n",
      "33 epoch loss: 2.3041703701019287\n",
      "34 epoch loss: 2.299649477005005\n",
      "35 epoch loss: 2.301102876663208\n",
      "36 epoch loss: 2.307725667953491\n",
      "37 epoch loss: 2.3046886920928955\n",
      "38 epoch loss: 2.3040080070495605\n",
      "39 epoch loss: 2.303372621536255\n",
      "40 epoch loss: 2.301004409790039\n",
      "41 epoch loss: 2.3033316135406494\n",
      "42 epoch loss: 2.3062386512756348\n",
      "43 epoch loss: 2.300283670425415\n",
      "44 epoch loss: 2.305227756500244\n",
      "45 epoch loss: 2.303973436355591\n",
      "46 epoch loss: 2.310359477996826\n",
      "47 epoch loss: 2.3052449226379395\n",
      "48 epoch loss: 2.303563356399536\n",
      "49 epoch loss: 2.303652763366699\n",
      "50 epoch loss: 2.3067891597747803\n",
      "51 epoch loss: 2.3020100593566895\n",
      "52 epoch loss: 2.3064939975738525\n",
      "53 epoch loss: 2.3020272254943848\n",
      "54 epoch loss: 2.3038742542266846\n",
      "55 epoch loss: 2.30422306060791\n",
      "56 epoch loss: 2.306345224380493\n",
      "57 epoch loss: 2.3025660514831543\n",
      "58 epoch loss: 2.303985118865967\n",
      "59 epoch loss: 2.303238868713379\n",
      "60 epoch loss: 2.3056325912475586\n",
      "61 epoch loss: 2.3046023845672607\n",
      "62 epoch loss: 2.3070504665374756\n",
      "63 epoch loss: 2.302830934524536\n",
      "64 epoch loss: 2.305461883544922\n",
      "65 epoch loss: 2.3029959201812744\n",
      "66 epoch loss: 2.3021695613861084\n",
      "67 epoch loss: 2.303838014602661\n",
      "68 epoch loss: 2.3012311458587646\n",
      "69 epoch loss: 2.305269956588745\n",
      "70 epoch loss: 2.303816556930542\n",
      "71 epoch loss: 2.3037304878234863\n",
      "72 epoch loss: 2.303762435913086\n",
      "73 epoch loss: 2.3006813526153564\n",
      "74 epoch loss: 2.3041348457336426\n",
      "75 epoch loss: 2.3010671138763428\n",
      "76 epoch loss: 2.3031015396118164\n",
      "77 epoch loss: 2.3022541999816895\n",
      "78 epoch loss: 2.305156946182251\n",
      "79 epoch loss: 2.3032045364379883\n",
      "80 epoch loss: 2.3032844066619873\n",
      "81 epoch loss: 2.303732395172119\n",
      "82 epoch loss: 2.3040084838867188\n",
      "83 epoch loss: 2.301757335662842\n",
      "84 epoch loss: 2.302222490310669\n",
      "85 epoch loss: 2.30308198928833\n",
      "86 epoch loss: 2.302408218383789\n",
      "87 epoch loss: 2.302374839782715\n",
      "88 epoch loss: 2.3039469718933105\n",
      "89 epoch loss: 2.300977945327759\n",
      "90 epoch loss: 2.3014402389526367\n",
      "91 epoch loss: 2.303729772567749\n",
      "92 epoch loss: 2.3002822399139404\n",
      "93 epoch loss: 2.3058149814605713\n",
      "94 epoch loss: 2.3021187782287598\n",
      "95 epoch loss: 2.305474281311035\n",
      "96 epoch loss: 2.3063011169433594\n",
      "97 epoch loss: 2.300609827041626\n",
      "98 epoch loss: 2.3044040203094482\n",
      "99 epoch loss: 2.3046131134033203\n",
      "100 epoch loss: 2.3021373748779297\n",
      "101 epoch loss: 2.3043975830078125\n",
      "102 epoch loss: 2.3047873973846436\n",
      "103 epoch loss: 2.30230975151062\n",
      "104 epoch loss: 2.3012149333953857\n",
      "105 epoch loss: 2.3019180297851562\n",
      "106 epoch loss: 2.3043582439422607\n",
      "107 epoch loss: 2.3035902976989746\n",
      "108 epoch loss: 2.30232310295105\n",
      "109 epoch loss: 2.300896167755127\n",
      "110 epoch loss: 2.3075661659240723\n",
      "111 epoch loss: 2.301518440246582\n",
      "112 epoch loss: 2.304687023162842\n",
      "113 epoch loss: 2.303330183029175\n",
      "114 epoch loss: 2.3052167892456055\n",
      "115 epoch loss: 2.3026835918426514\n",
      "116 epoch loss: 2.304018259048462\n",
      "117 epoch loss: 2.3052690029144287\n",
      "118 epoch loss: 2.3022730350494385\n",
      "119 epoch loss: 2.301759958267212\n",
      "120 epoch loss: 2.3034589290618896\n",
      "121 epoch loss: 2.3022680282592773\n",
      "122 epoch loss: 2.30306077003479\n",
      "123 epoch loss: 2.3021771907806396\n",
      "124 epoch loss: 2.3058791160583496\n",
      "125 epoch loss: 2.3017680644989014\n",
      "126 epoch loss: 2.3064985275268555\n",
      "127 epoch loss: 2.3038713932037354\n",
      "128 epoch loss: 2.30525803565979\n",
      "129 epoch loss: 2.3089370727539062\n",
      "130 epoch loss: 2.298583984375\n",
      "131 epoch loss: 2.3011162281036377\n",
      "132 epoch loss: 2.301194190979004\n",
      "133 epoch loss: 2.3017685413360596\n",
      "134 epoch loss: 2.30371356010437\n",
      "135 epoch loss: 2.3023834228515625\n",
      "136 epoch loss: 2.3036653995513916\n",
      "137 epoch loss: 2.3042044639587402\n",
      "138 epoch loss: 2.3047711849212646\n",
      "139 epoch loss: 2.3038923740386963\n",
      "140 epoch loss: 2.3009700775146484\n",
      "141 epoch loss: 2.302818775177002\n",
      "142 epoch loss: 2.301133394241333\n",
      "143 epoch loss: 2.3048529624938965\n",
      "144 epoch loss: 2.3044536113739014\n",
      "145 epoch loss: 2.308389186859131\n",
      "146 epoch loss: 2.3074491024017334\n",
      "147 epoch loss: 2.302377462387085\n",
      "148 epoch loss: 2.301098108291626\n",
      "149 epoch loss: 2.3040454387664795\n",
      "150 epoch loss: 2.303212881088257\n",
      "151 epoch loss: 2.300171375274658\n",
      "152 epoch loss: 2.300856113433838\n",
      "153 epoch loss: 2.305727958679199\n",
      "154 epoch loss: 2.304625988006592\n",
      "155 epoch loss: 2.302675724029541\n",
      "156 epoch loss: 2.3021247386932373\n",
      "157 epoch loss: 2.3059442043304443\n",
      "158 epoch loss: 2.302647113800049\n",
      "159 epoch loss: 2.3041515350341797\n",
      "160 epoch loss: 2.30401611328125\n",
      "161 epoch loss: 2.303722858428955\n",
      "162 epoch loss: 2.305701494216919\n",
      "163 epoch loss: 2.30456805229187\n",
      "164 epoch loss: 2.301438331604004\n",
      "165 epoch loss: 2.306187152862549\n",
      "166 epoch loss: 2.3092870712280273\n",
      "167 epoch loss: 2.3080685138702393\n",
      "168 epoch loss: 2.3076171875\n",
      "169 epoch loss: 2.3023252487182617\n",
      "170 epoch loss: 2.30566143989563\n",
      "171 epoch loss: 2.305479049682617\n",
      "172 epoch loss: 2.305344820022583\n",
      "173 epoch loss: 2.306081771850586\n",
      "174 epoch loss: 2.3032634258270264\n",
      "175 epoch loss: 2.3058853149414062\n",
      "176 epoch loss: 2.3067963123321533\n",
      "177 epoch loss: 2.3038525581359863\n",
      "178 epoch loss: 2.3039939403533936\n",
      "179 epoch loss: 2.3042151927948\n",
      "180 epoch loss: 2.3038907051086426\n",
      "181 epoch loss: 2.307636260986328\n",
      "182 epoch loss: 2.3039965629577637\n",
      "183 epoch loss: 2.303588390350342\n",
      "184 epoch loss: 2.305295944213867\n",
      "185 epoch loss: 2.3043224811553955\n",
      "186 epoch loss: 2.307116985321045\n",
      "187 epoch loss: 2.3044354915618896\n",
      "188 epoch loss: 2.3067634105682373\n",
      "189 epoch loss: 2.303388833999634\n",
      "190 epoch loss: 2.299140214920044\n",
      "191 epoch loss: 2.3027331829071045\n",
      "192 epoch loss: 2.3005921840667725\n",
      "193 epoch loss: 2.309755325317383\n",
      "194 epoch loss: 2.298086643218994\n",
      "195 epoch loss: 2.30601167678833\n",
      "196 epoch loss: 2.301313638687134\n",
      "197 epoch loss: 2.3058552742004395\n",
      "198 epoch loss: 2.3098185062408447\n",
      "199 epoch loss: 2.3032283782958984\n"
     ]
    }
   ],
   "source": [
    "loss_array = []\n",
    "\n",
    "# train the model\n",
    "for i in range(training_epochs):\n",
    "    for index, [data, label] in enumerate(train_loader):\n",
    "        data = data.to(device)\n",
    "        label = label.to(device)\n",
    "                \n",
    "        optimizer.zero_grad()\n",
    "        output = model.forward(data)\n",
    "        loss = loss_function(output, label)\n",
    "        loss.backward()\n",
    "        optimizer.step()\n",
    "        \n",
    "    \n",
    "    print('{} epoch loss: {}'.format(i,loss))\n",
    "    loss_array.append(loss.cpu().detach().numpy())"
   ]
  },
  {
   "cell_type": "code",
   "execution_count": 7,
   "metadata": {},
   "outputs": [
    {
     "data": {
      "image/png": "[encoded data removed]",
      "text/plain": [
       "<Figure size 432x288 with 1 Axes>"
      ]
     },
     "metadata": {
      "needs_background": "light"
     },
     "output_type": "display_data"
    }
   ],
   "source": [
    "plt.figure()\n",
    "plt.plot(loss_array)\n",
    "plt.show()"
   ]
  },
  {
   "cell_type": "code",
   "execution_count": 8,
   "metadata": {},
   "outputs": [
    {
     "name": "stdout",
     "output_type": "stream",
     "text": [
      "Accuracy of the model: 0.09919819235801697\n"
     ]
    }
   ],
   "source": [
    "#test the model\n",
    "model.eval()\n",
    "correct = 0\n",
    "total = 0\n",
    "\n",
    "prediction_list = []\n",
    "label_list = []\n",
    "\n",
    "with torch.no_grad():\n",
    "    for index, [data, label] in enumerate(test_loader):\n",
    "        data = data.to(device)\n",
    "        label = label.to(device)\n",
    "        \n",
    "        output = model.forward(data)\n",
    "        _, prediction_index = torch.max(output, 1)\n",
    "        \n",
    "        prediction_list.append(prediction_index)\n",
    "        label_list.append(label)\n",
    "        \n",
    "        total += label.size(0)\n",
    "        correct += (prediction_index == label).sum().float()\n",
    "\n",
    "    print(\"Accuracy of the model: {}\".format(correct/total))"
   ]
  }
 ],
 "metadata": {
  "celltoolbar": "Slideshow",
  "kernelspec": {
   "display_name": "Pytorch",
   "language": "python",
   "name": "pytorch"
  },
  "language_info": {
   "codemirror_mode": {
    "name": "ipython",
    "version": 3
   },
   "file_extension": ".py",
   "mimetype": "text/x-python",
   "name": "python",
   "nbconvert_exporter": "python",
   "pygments_lexer": "ipython3",
   "version": "3.7.7"
  },
  "widgets": {
   "state": {},
   "version": "1.1.2"
  }
 },
 "nbformat": 4,
 "nbformat_minor": 2
}
