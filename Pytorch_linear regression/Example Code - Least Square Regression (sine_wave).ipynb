{
 "cells": [
  {
   "cell_type": "markdown",
   "metadata": {
    "slideshow": {
     "slide_type": "slide"
    }
   },
   "source": [
    "# Linear Regression\n",
    "###     (preliminary: Linear Model)\n",
    "## 1. Library and Data, Preprocessing\n",
    "## 2. Compute W and b with 3 methods "
   ]
  },
  {
   "cell_type": "markdown",
   "metadata": {
    "slideshow": {
     "slide_type": "skip"
    }
   },
   "source": [
    "## 3. [Advanced] Regularization: Ridge, Lasso"
   ]
  },
  {
   "cell_type": "markdown",
   "metadata": {
    "slideshow": {
     "slide_type": "slide"
    }
   },
   "source": [
    "# Library"
   ]
  },
  {
   "cell_type": "code",
   "execution_count": 1,
   "metadata": {
    "slideshow": {
     "slide_type": "fragment"
    }
   },
   "outputs": [],
   "source": [
    "import numpy as np\n",
    "from sklearn.linear_model import LinearRegression\n",
    "from matplotlib import pyplot as plt\n",
    "\n",
    "import torch\n",
    "import torch.nn as nn # for neural network models\n",
    "import torch.optim as optim # for optimization \n",
    "import torch.nn.init as init # for initialization "
   ]
  },
  {
   "cell_type": "markdown",
   "metadata": {
    "slideshow": {
     "slide_type": "slide"
    }
   },
   "source": [
    "# simple data"
   ]
  },
  {
   "cell_type": "code",
   "execution_count": 2,
   "metadata": {
    "slideshow": {
     "slide_type": "fragment"
    }
   },
   "outputs": [
    {
     "data": {
      "image/png": "[encoded data removed]",
      "text/plain": [
       "<Figure size 432x288 with 1 Axes>"
      ]
     },
     "metadata": {
      "needs_background": "light"
     },
     "output_type": "display_data"
    }
   ],
   "source": [
    "plt.figure()\n",
    "\n",
    "# true data\n",
    "N = 40 #실습할 데이터 갯수\n",
    "X = np.linspace(-np.pi/2, np.pi/2, N).reshape(N, 1) # linspace(시작점,끝점,사이에 몇개를 가지고올래)\n",
    "y = np.sin(X)\n",
    "plt.plot(X, y)\n",
    "\n",
    "# add noise\n",
    "y += 0.1*np.random.randn(N, 1)\n",
    "\n",
    "plt.scatter(X, y)\n",
    "plt.title('sine wave data')\n",
    "plt.show()"
   ]
  },
  {
   "cell_type": "markdown",
   "metadata": {
    "slideshow": {
     "slide_type": "slide"
    }
   },
   "source": [
    "# Make feature"
   ]
  },
  {
   "cell_type": "code",
   "execution_count": 3,
   "metadata": {
    "slideshow": {
     "slide_type": "fragment"
    }
   },
   "outputs": [
    {
     "name": "stdout",
     "output_type": "stream",
     "text": [
      "PHI.shape:  (40, 2)\n",
      "PHI[:3] \n",
      " [[ 1.         -1.57079633]\n",
      " [ 1.         -1.49024267]\n",
      " [ 1.         -1.40968901]]\n"
     ]
    }
   ],
   "source": [
    "n_feature = 2\n",
    "\n",
    "PHI = np.ones(X.shape[0]).reshape(-1, 1) # 40 x 1\n",
    "for i in range(1, n_feature):\n",
    "    PHI = np.concatenate((PHI, np.power(X, i)), axis=1)\n",
    "print('PHI.shape: ', PHI.shape) # 40 x 2\n",
    "print('PHI[:3] \\n', PHI[:3])\n",
    "\n",
    "# shuffle\n",
    "idx = np.random.permutation(N)\n",
    "shuffle_X = X[idx]\n",
    "shuffle_PHI = PHI[idx]\n",
    "shuffle_y = y[idx]"
   ]
  },
  {
   "cell_type": "markdown",
   "metadata": {
    "slideshow": {
     "slide_type": "slide"
    }
   },
   "source": [
    "# Split train / test dataset"
   ]
  },
  {
   "cell_type": "code",
   "execution_count": 4,
   "metadata": {
    "slideshow": {
     "slide_type": "fragment"
    }
   },
   "outputs": [
    {
     "name": "stdout",
     "output_type": "stream",
     "text": [
      "[[ 1.          1.57079633]\n",
      " [ 1.         -1.2485817 ]\n",
      " [ 1.         -0.52359878]\n",
      " [ 1.          0.36249146]\n",
      " [ 1.          0.20138414]\n",
      " [ 1.          0.44304512]\n",
      " [ 1.          0.52359878]\n",
      " [ 1.         -0.76525975]\n",
      " [ 1.          1.40968901]\n",
      " [ 1.          0.84581341]\n",
      " [ 1.         -0.12083049]\n",
      " [ 1.         -0.2819378 ]\n",
      " [ 1.          1.2485817 ]\n",
      " [ 1.         -1.49024267]\n",
      " [ 1.         -1.40968901]\n",
      " [ 1.          0.60415243]\n",
      " [ 1.         -0.68470609]\n",
      " [ 1.         -1.08747438]\n",
      " [ 1.         -1.57079633]\n",
      " [ 1.          0.2819378 ]]\n",
      "(20, 2)\n",
      "[[ 1.          1.57079633]\n",
      " [ 1.         -1.2485817 ]\n",
      " [ 1.         -0.52359878]\n",
      " [ 1.          0.36249146]\n",
      " [ 1.          0.20138414]\n",
      " [ 1.          0.44304512]\n",
      " [ 1.          0.52359878]\n",
      " [ 1.         -0.76525975]\n",
      " [ 1.          1.40968901]\n",
      " [ 1.          0.84581341]\n",
      " [ 1.         -0.12083049]\n",
      " [ 1.         -0.2819378 ]\n",
      " [ 1.          1.2485817 ]\n",
      " [ 1.         -1.49024267]\n",
      " [ 1.         -1.40968901]\n",
      " [ 1.          0.60415243]\n",
      " [ 1.         -0.68470609]\n",
      " [ 1.         -1.08747438]\n",
      " [ 1.         -1.57079633]\n",
      " [ 1.          0.2819378 ]\n",
      " [ 1.         -0.36249146]\n",
      " [ 1.          0.68470609]\n",
      " [ 1.          1.49024267]\n",
      " [ 1.         -1.32913535]\n",
      " [ 1.         -0.04027683]\n",
      " [ 1.          1.08747438]\n",
      " [ 1.         -0.92636706]\n",
      " [ 1.          0.04027683]\n",
      " [ 1.          1.00692072]\n",
      " [ 1.          1.16802804]\n",
      " [ 1.          0.12083049]\n",
      " [ 1.          0.76525975]\n",
      " [ 1.          0.92636706]\n",
      " [ 1.         -0.60415243]\n",
      " [ 1.         -1.16802804]\n",
      " [ 1.         -0.84581341]\n",
      " [ 1.          1.32913535]\n",
      " [ 1.         -1.00692072]\n",
      " [ 1.         -0.20138414]\n",
      " [ 1.         -0.44304512]]\n",
      "(40, 2)\n"
     ]
    }
   ],
   "source": [
    "n = N-20 \n",
    "\n",
    "# train data\n",
    "X_train = shuffle_X[:n]\n",
    "PHI_train = shuffle_PHI[:n]\n",
    "y_train = shuffle_y[:n]\n",
    "\n",
    "print(PHI_train)\n",
    "print(PHI_train.shape)\n",
    "\n",
    "# test data\n",
    "X_test = shuffle_X[:]\n",
    "PHI_test = shuffle_PHI[:]\n",
    "y_test = shuffle_y[:]\n",
    "\n",
    "print(PHI_test)\n",
    "print(PHI_test.shape)"
   ]
  },
  {
   "cell_type": "code",
   "execution_count": 5,
   "metadata": {
    "slideshow": {
     "slide_type": "subslide"
    }
   },
   "outputs": [
    {
     "data": {
      "image/png": "[encoded data removed]",
      "text/plain": [
       "<Figure size 432x288 with 1 Axes>"
      ]
     },
     "metadata": {
      "needs_background": "light"
     },
     "output_type": "display_data"
    },
    {
     "data": {
      "image/png": "[encoded data removed]",
      "text/plain": [
       "<Figure size 432x288 with 1 Axes>"
      ]
     },
     "metadata": {
      "needs_background": "light"
     },
     "output_type": "display_data"
    }
   ],
   "source": [
    "# plot\n",
    "plt.figure()\n",
    "plt.scatter(X_train, y_train, label='train')\n",
    "plt.legend()\n",
    "plt.title('sine wave train data')\n",
    "plt.show()\n",
    "\n",
    "plt.figure()\n",
    "plt.scatter(X_test, y_test, label='test')\n",
    "plt.legend()\n",
    "plt.title('sine wave test data')\n",
    "plt.show()"
   ]
  },
  {
   "cell_type": "markdown",
   "metadata": {
    "slideshow": {
     "slide_type": "slide"
    }
   },
   "source": [
    "# Linear Regression (Formula)\n",
    "## method 1: compute W and b with numpy"
   ]
  },
  {
   "cell_type": "code",
   "execution_count": 6,
   "metadata": {
    "slideshow": {
     "slide_type": "fragment"
    }
   },
   "outputs": [
    {
     "name": "stdout",
     "output_type": "stream",
     "text": [
      "[b, W] = W_\n",
      "W_.shape:  (2, 1)\n",
      "W_ \n",
      " [[0.01835021]\n",
      " [0.74667042]]\n"
     ]
    }
   ],
   "source": [
    "# compute W_ with PHI_train.\n",
    "W_ = np.linalg.inv(PHI_train.T @ PHI_train) @ PHI_train.T @ y_train #역함수 구하는것 numpy 에서 @는 matrix 의 곱이다.\n",
    "print('[b, W] = W_')  \n",
    "print('W_.shape: ', W_.shape)\n",
    "print('W_ \\n', W_)"
   ]
  },
  {
   "cell_type": "code",
   "execution_count": 7,
   "metadata": {
    "slideshow": {
     "slide_type": "subslide"
    }
   },
   "outputs": [
    {
     "data": {
      "image/png": "[encoded data removed]",
      "text/plain": [
       "<Figure size 432x288 with 1 Axes>"
      ]
     },
     "metadata": {
      "needs_background": "light"
     },
     "output_type": "display_data"
    },
    {
     "data": {
      "image/png": "[encoded data removed]",
      "text/plain": [
       "<Figure size 432x288 with 1 Axes>"
      ]
     },
     "metadata": {
      "needs_background": "light"
     },
     "output_type": "display_data"
    }
   ],
   "source": [
    "plt.figure()\n",
    "plt.scatter(X_train, PHI_train @ W_, label='pred')\n",
    "plt.scatter(X_train, y_train, label='target')\n",
    "plt.title('train data')\n",
    "plt.show()\n",
    "\n",
    "plt.figure()\n",
    "plt.scatter(X_test, PHI_test @ W_, label='pred')\n",
    "plt.scatter(X_test, y_test, label='target')\n",
    "plt.legend()\n",
    "plt.title('test data')\n",
    "plt.show()"
   ]
  },
  {
   "cell_type": "markdown",
   "metadata": {
    "slideshow": {
     "slide_type": "slide"
    }
   },
   "source": [
    "# Linear Regression (Formula)\n",
    "## method 2: compute W and b with sklearn library"
   ]
  },
  {
   "cell_type": "code",
   "execution_count": 8,
   "metadata": {
    "slideshow": {
     "slide_type": "fragment"
    }
   },
   "outputs": [
    {
     "name": "stdout",
     "output_type": "stream",
     "text": [
      "b:  [0.01835021]\n",
      "W:  [[0.74667042]]\n"
     ]
    }
   ],
   "source": [
    "reg = LinearRegression()\n",
    "reg.fit(X_train, y_train)\n",
    "\n",
    "print('b: ', reg.intercept_) \n",
    "print('W: ', reg.coef_)"
   ]
  },
  {
   "cell_type": "code",
   "execution_count": 9,
   "metadata": {
    "slideshow": {
     "slide_type": "subslide"
    }
   },
   "outputs": [
    {
     "data": {
      "image/png": "[encoded data removed]",
      "text/plain": [
       "<Figure size 432x288 with 1 Axes>"
      ]
     },
     "metadata": {
      "needs_background": "light"
     },
     "output_type": "display_data"
    },
    {
     "data": {
      "image/png": "[encoded data removed]",
      "text/plain": [
       "<Figure size 432x288 with 1 Axes>"
      ]
     },
     "metadata": {
      "needs_background": "light"
     },
     "output_type": "display_data"
    }
   ],
   "source": [
    "plt.figure()\n",
    "plt.scatter(X_train, reg.predict(X_train), label='pred')\n",
    "plt.scatter(X_train, y_train, label='target')\n",
    "plt.legend()\n",
    "plt.title('train data')\n",
    "plt.show()\n",
    "\n",
    "plt.figure()\n",
    "plt.scatter(X_test, reg.predict(X_test), label='pred')\n",
    "plt.scatter(X_test, y_test, label='target')\n",
    "plt.legend()\n",
    "plt.title('test data')\n",
    "plt.show()"
   ]
  },
  {
   "cell_type": "markdown",
   "metadata": {
    "slideshow": {
     "slide_type": "slide"
    }
   },
   "source": [
    "# Linear Regression (Formula)\n",
    "## method 3: compute W and b with pytorch library (Gradient Descent)"
   ]
  },
  {
   "cell_type": "code",
   "execution_count": 10,
   "metadata": {
    "slideshow": {
     "slide_type": "fragment"
    }
   },
   "outputs": [
    {
     "name": "stdout",
     "output_type": "stream",
     "text": [
      "tensor(1.7004)\n",
      "tensor(0.0378)\n",
      "tensor(0.0117)\n",
      "tensor(0.0113)\n",
      "tensor(0.0113)\n",
      "tensor(0.0113)\n",
      "tensor(0.0113)\n",
      "tensor(0.0113)\n",
      "tensor(0.0113)\n",
      "tensor(0.0113)\n",
      "W_ \n",
      " tensor(0.0184, grad_fn=<SelectBackward>)\n",
      "W_ \n",
      " tensor(0.7467, grad_fn=<SelectBackward>)\n"
     ]
    }
   ],
   "source": [
    "# prepare data\n",
    "PHI_train = torch.tensor(PHI_train, dtype = torch.float) # if PHI_train is numpy.array\n",
    "label = torch.tensor(y_train, dtype=torch.float)\n",
    "\n",
    "# prepare model\n",
    "model = nn.Linear(n_feature, 1, bias = False) # train without bias. (PHI_train term have 1, have bias already.)\n",
    "\n",
    "# prepare optimziation and loss function \n",
    "loss_function = nn.MSELoss()\n",
    "optimizer = optim.SGD(model.parameters(), lr = 0.1) #lr = learning rate\n",
    "\n",
    "# train the model \n",
    "for i in range(100):\n",
    "    optimizer.zero_grad()\n",
    "    output = model(PHI_train)\n",
    "    \n",
    "    loss = loss_function(output, label) #loss계산\n",
    "    \n",
    "    loss.backward() \n",
    "    optimizer.step()\n",
    "    \n",
    "    if i % 10 == 0:\n",
    "        print(loss.data)\n",
    "        \n",
    "    param_list = list(model.parameters())\n",
    "\n",
    "\n",
    "print('W_ \\n', param_list[0][0][0])\n",
    "print('W_ \\n', param_list[0][0][1])\n",
    "\n",
    "PHI_test = torch.tensor(PHI_test, dtype = torch.float)\n",
    "\n",
    "y_train_pred = model(PHI_train)\n",
    "y_test_pred = model(PHI_test)\n",
    "\n",
    "y_train_pred = y_train_pred.detach().numpy()\n",
    "y_test_pred = y_test_pred.detach().numpy()"
   ]
  },
  {
   "cell_type": "code",
   "execution_count": 11,
   "metadata": {
    "scrolled": false,
    "slideshow": {
     "slide_type": "subslide"
    }
   },
   "outputs": [
    {
     "data": {
      "image/png": "[encoded data removed]",
      "text/plain": [
       "<Figure size 432x288 with 1 Axes>"
      ]
     },
     "metadata": {
      "needs_background": "light"
     },
     "output_type": "display_data"
    },
    {
     "data": {
      "image/png": "[encoded data removed]",
      "text/plain": [
       "<Figure size 432x288 with 1 Axes>"
      ]
     },
     "metadata": {
      "needs_background": "light"
     },
     "output_type": "display_data"
    }
   ],
   "source": [
    "plt.figure()\n",
    "plt.scatter(X_train, y_train_pred, label='pred')\n",
    "plt.scatter(X_train, y_train, label='target')\n",
    "plt.legend()\n",
    "plt.title('train data')\n",
    "plt.show()\n",
    "\n",
    "plt.figure()\n",
    "plt.scatter(X_test, y_test_pred, label='pred')\n",
    "plt.scatter(X_test, y_test, label='target')\n",
    "plt.legend()\n",
    "plt.title('test data')\n",
    "plt.show()"
   ]
  },
  {
   "cell_type": "markdown",
   "metadata": {
    "slideshow": {
     "slide_type": "slide"
    }
   },
   "source": [
    "# Advacned: Regularization (Ridge, Lasso)"
   ]
  },
  {
   "cell_type": "code",
   "execution_count": 14,
   "metadata": {
    "slideshow": {
     "slide_type": "fragment"
    }
   },
   "outputs": [
    {
     "name": "stdout",
     "output_type": "stream",
     "text": [
      "tensor(0.2239)\n",
      "tensor(0.0146)\n",
      "tensor(0.0113)\n",
      "tensor(0.0113)\n",
      "tensor(0.0113)\n",
      "tensor(0.0113)\n",
      "tensor(0.0113)\n",
      "tensor(0.0113)\n",
      "tensor(0.0113)\n",
      "tensor(0.0113)\n",
      "b \n",
      " tensor(0.0184, grad_fn=<SelectBackward>)\n",
      "W_ \n",
      " tensor(0.7467, grad_fn=<SelectBackward>)\n"
     ]
    }
   ],
   "source": [
    "# prepare data\n",
    "PHI_train = PHI_train.clone().detach() # if PHI_train is torch.tensor\n",
    "label = label.clone().detach()\n",
    "\n",
    "# prepare model\n",
    "model = nn.Linear(n_feature, 1, bias = False) # train without bias. (PHI_train term have 1, have bias already.)\n",
    "\n",
    "# prepare optimziation and loss function \n",
    "loss_function = nn.MSELoss()\n",
    "optimizer = optim.SGD(model.parameters(), lr = 0.1)\n",
    "\n",
    "#train model\n",
    "for i in range(100):\n",
    "    optimizer.zero_grad()\n",
    "    output = model(PHI_train)\n",
    "    \n",
    "    loss = loss_function(output, label)\n",
    "    \n",
    "    # L1 regularization 은 pytorch 에서 제공안해줌\n",
    "    regularization_coefficent=1e-3\n",
    "    regularization_loss = 0\n",
    "    for param in model.parameters(): # model 의 파라미터들을 다 가져옴\n",
    "        regularization_loss += torch.sum(torch.abs(param)) #L1 regularization 식 구현\n",
    "        \n",
    "    regularization_loss = regularization_loss * regularization_coefficent\n",
    "    regularization_loss = regularization_loss + loss\n",
    "    \n",
    "    loss.backward()\n",
    "    optimizer.step()\n",
    "    \n",
    "    if i % 10 == 0:\n",
    "        print(loss.data)\n",
    "        \n",
    "    param_list = list(model.parameters())\n",
    "\n",
    "\n",
    "print('b \\n', param_list[0][0][0])\n",
    "print('W_ \\n', param_list[0][0][1])\n",
    "\n",
    "PHI_test = PHI_test.clone().detach()\n",
    "\n",
    "y_train_pred = model(PHI_train)\n",
    "y_test_pred = model(PHI_test)\n",
    "\n",
    "y_train_pred = y_train_pred.detach().numpy()\n",
    "y_test_pred = y_test_pred.detach().numpy()"
   ]
  },
  {
   "cell_type": "code",
   "execution_count": null,
   "metadata": {
    "slideshow": {
     "slide_type": "subslide"
    }
   },
   "outputs": [],
   "source": [
    "plt.figure()\n",
    "plt.scatter(X_train, y_train_pred, label='pred')\n",
    "plt.scatter(X_train, y_train, label='target')\n",
    "plt.legend()\n",
    "plt.title('train data')\n",
    "plt.show()\n",
    "\n",
    "plt.figure()\n",
    "plt.scatter(X_test, y_test_pred, label='pred')\n",
    "plt.scatter(X_test, y_test, label='target')\n",
    "plt.legend()\n",
    "plt.title('test data')\n",
    "plt.show()"
   ]
  },
  {
   "cell_type": "code",
   "execution_count": null,
   "metadata": {
    "slideshow": {
     "slide_type": "skip"
    }
   },
   "outputs": [],
   "source": [
    "# prepare data\n",
    "PHI_train = PHI_train.clone().detach() # same with PHI_train = torch.tensor(PHI_train, dtype = torch.float)\n",
    "label = label.clone().detach()\n",
    "\n",
    "# prepare model \n",
    "model = nn.Linear(n_feature, 1, bias = False) # train without bias. (PHI_train term have 1, have bias already.)\n",
    "\n",
    "# prepare loss function\n",
    "loss_function = nn.MSELoss()\n",
    "\n",
    "# L2 reguliarzation (weight_decay설정해주면됨)\n",
    "optimizer = optim.SGD(model.parameters(), lr = 0.1, weight_decay = 0.01)\n",
    "\n",
    "# train the model\n",
    "for i in range(100):\n",
    "    optimizer.zero_grad()\n",
    "    output = model(PHI_train)\n",
    "    \n",
    "    loss = loss_function(output, label)\n",
    "    \n",
    "    loss.backward()\n",
    "    optimizer.step()\n",
    "    \n",
    "    if i % 10 == 0:\n",
    "        print(loss.data)\n",
    "        \n",
    "    param_list = list(model.parameters())\n",
    "\n",
    "\n",
    "print('b \\n', param_list[0][0][0])\n",
    "print('W_ \\n', param_list[0][0][1])\n",
    "\n",
    "PHI_test = PHI_test.clone().detach() # same with PHI_train = torch.tensor(PHI_train, dtype = torch.float)\n",
    "\n",
    "y_train_pred = model(PHI_train)\n",
    "y_test_pred = model(PHI_test)\n",
    "\n",
    "y_train_pred = y_train_pred.detach().numpy()\n",
    "y_test_pred = y_test_pred.detach().numpy()"
   ]
  },
  {
   "cell_type": "code",
   "execution_count": null,
   "metadata": {},
   "outputs": [],
   "source": [
    "plt.figure()\n",
    "plt.scatter(X_train, y_train_pred, label='pred')\n",
    "plt.scatter(X_train, y_train, label='target')\n",
    "plt.legend()\n",
    "plt.title('train data')\n",
    "plt.show()\n",
    "\n",
    "plt.figure()\n",
    "plt.scatter(X_test, y_test_pred, label='pred')\n",
    "plt.scatter(X_test, y_test, label='target')\n",
    "plt.legend()\n",
    "plt.title('test data')\n",
    "plt.show()"
   ]
  },
  {
   "cell_type": "code",
   "execution_count": null,
   "metadata": {},
   "outputs": [],
   "source": []
  }
 ],
 "metadata": {
  "celltoolbar": "Slideshow",
  "kernelspec": {
   "display_name": "Pytorch",
   "language": "python",
   "name": "pytorch"
  },
  "language_info": {
   "codemirror_mode": {
    "name": "ipython",
    "version": 3
   },
   "file_extension": ".py",
   "mimetype": "text/x-python",
   "name": "python",
   "nbconvert_exporter": "python",
   "pygments_lexer": "ipython3",
   "version": "3.7.7"
  },
  "widgets": {
   "state": {},
   "version": "1.1.2"
  }
 },
 "nbformat": 4,
 "nbformat_minor": 2
}
